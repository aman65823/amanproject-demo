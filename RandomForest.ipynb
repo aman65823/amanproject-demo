{
  "nbformat": 4,
  "nbformat_minor": 0,
  "metadata": {
    "colab": {
      "provenance": [],
      "authorship_tag": "ABX9TyOR+RPoNxNos8YyYwxb2NUl",
      "include_colab_link": true
    },
    "kernelspec": {
      "name": "python3",
      "display_name": "Python 3"
    },
    "language_info": {
      "name": "python"
    }
  },
  "cells": [
    {
      "cell_type": "markdown",
      "metadata": {
        "id": "view-in-github",
        "colab_type": "text"
      },
      "source": [
        "<a href=\"https://colab.research.google.com/github/aman65823/amanproject-demo/blob/main/RandomForest.ipynb\" target=\"_parent\"><img src=\"https://colab.research.google.com/assets/colab-badge.svg\" alt=\"Open In Colab\"/></a>"
      ]
    },
    {
      "cell_type": "code",
      "execution_count": null,
      "metadata": {
        "id": "WrJd-oIO0Ies"
      },
      "outputs": [],
      "source": [
        "import numpy as np\n",
        "import pandas as pd\n"
      ]
    },
    {
      "cell_type": "code",
      "source": [
        "data=pd.read_csv('titanic.csv')"
      ],
      "metadata": {
        "id": "IbTURFsZ0hkP"
      },
      "execution_count": null,
      "outputs": []
    },
    {
      "cell_type": "code",
      "source": [
        "data.head()"
      ],
      "metadata": {
        "colab": {
          "base_uri": "https://localhost:8080/",
          "height": 466
        },
        "id": "PJw4J1L_0qSS",
        "outputId": "92346f68-d737-428d-da9d-96ca5b9014b9"
      },
      "execution_count": null,
      "outputs": [
        {
          "output_type": "execute_result",
          "data": {
            "text/plain": [
              "   PassengerId  Survived  Pclass  \\\n",
              "0            1         0       3   \n",
              "1            2         1       1   \n",
              "2            3         1       3   \n",
              "3            4         1       1   \n",
              "4            5         0       3   \n",
              "\n",
              "                                                Name     Sex   Age  SibSp  \\\n",
              "0                            Braund, Mr. Owen Harris    male  22.0      1   \n",
              "1  Cumings, Mrs. John Bradley (Florence Briggs Th...  female  38.0      1   \n",
              "2                             Heikkinen, Miss. Laina  female  26.0      0   \n",
              "3       Futrelle, Mrs. Jacques Heath (Lily May Peel)  female  35.0      1   \n",
              "4                           Allen, Mr. William Henry    male  35.0      0   \n",
              "\n",
              "   Parch            Ticket     Fare Cabin Embarked  \n",
              "0      0         A/5 21171   7.2500   NaN        S  \n",
              "1      0          PC 17599  71.2833   C85        C  \n",
              "2      0  STON/O2. 3101282   7.9250   NaN        S  \n",
              "3      0            113803  53.1000  C123        S  \n",
              "4      0            373450   8.0500   NaN        S  "
            ],
            "text/html": [
              "\n",
              "  <div id=\"df-701a679e-2867-4170-9cef-4583edca17c8\" class=\"colab-df-container\">\n",
              "    <div>\n",
              "<style scoped>\n",
              "    .dataframe tbody tr th:only-of-type {\n",
              "        vertical-align: middle;\n",
              "    }\n",
              "\n",
              "    .dataframe tbody tr th {\n",
              "        vertical-align: top;\n",
              "    }\n",
              "\n",
              "    .dataframe thead th {\n",
              "        text-align: right;\n",
              "    }\n",
              "</style>\n",
              "<table border=\"1\" class=\"dataframe\">\n",
              "  <thead>\n",
              "    <tr style=\"text-align: right;\">\n",
              "      <th></th>\n",
              "      <th>PassengerId</th>\n",
              "      <th>Survived</th>\n",
              "      <th>Pclass</th>\n",
              "      <th>Name</th>\n",
              "      <th>Sex</th>\n",
              "      <th>Age</th>\n",
              "      <th>SibSp</th>\n",
              "      <th>Parch</th>\n",
              "      <th>Ticket</th>\n",
              "      <th>Fare</th>\n",
              "      <th>Cabin</th>\n",
              "      <th>Embarked</th>\n",
              "    </tr>\n",
              "  </thead>\n",
              "  <tbody>\n",
              "    <tr>\n",
              "      <th>0</th>\n",
              "      <td>1</td>\n",
              "      <td>0</td>\n",
              "      <td>3</td>\n",
              "      <td>Braund, Mr. Owen Harris</td>\n",
              "      <td>male</td>\n",
              "      <td>22.0</td>\n",
              "      <td>1</td>\n",
              "      <td>0</td>\n",
              "      <td>A/5 21171</td>\n",
              "      <td>7.2500</td>\n",
              "      <td>NaN</td>\n",
              "      <td>S</td>\n",
              "    </tr>\n",
              "    <tr>\n",
              "      <th>1</th>\n",
              "      <td>2</td>\n",
              "      <td>1</td>\n",
              "      <td>1</td>\n",
              "      <td>Cumings, Mrs. John Bradley (Florence Briggs Th...</td>\n",
              "      <td>female</td>\n",
              "      <td>38.0</td>\n",
              "      <td>1</td>\n",
              "      <td>0</td>\n",
              "      <td>PC 17599</td>\n",
              "      <td>71.2833</td>\n",
              "      <td>C85</td>\n",
              "      <td>C</td>\n",
              "    </tr>\n",
              "    <tr>\n",
              "      <th>2</th>\n",
              "      <td>3</td>\n",
              "      <td>1</td>\n",
              "      <td>3</td>\n",
              "      <td>Heikkinen, Miss. Laina</td>\n",
              "      <td>female</td>\n",
              "      <td>26.0</td>\n",
              "      <td>0</td>\n",
              "      <td>0</td>\n",
              "      <td>STON/O2. 3101282</td>\n",
              "      <td>7.9250</td>\n",
              "      <td>NaN</td>\n",
              "      <td>S</td>\n",
              "    </tr>\n",
              "    <tr>\n",
              "      <th>3</th>\n",
              "      <td>4</td>\n",
              "      <td>1</td>\n",
              "      <td>1</td>\n",
              "      <td>Futrelle, Mrs. Jacques Heath (Lily May Peel)</td>\n",
              "      <td>female</td>\n",
              "      <td>35.0</td>\n",
              "      <td>1</td>\n",
              "      <td>0</td>\n",
              "      <td>113803</td>\n",
              "      <td>53.1000</td>\n",
              "      <td>C123</td>\n",
              "      <td>S</td>\n",
              "    </tr>\n",
              "    <tr>\n",
              "      <th>4</th>\n",
              "      <td>5</td>\n",
              "      <td>0</td>\n",
              "      <td>3</td>\n",
              "      <td>Allen, Mr. William Henry</td>\n",
              "      <td>male</td>\n",
              "      <td>35.0</td>\n",
              "      <td>0</td>\n",
              "      <td>0</td>\n",
              "      <td>373450</td>\n",
              "      <td>8.0500</td>\n",
              "      <td>NaN</td>\n",
              "      <td>S</td>\n",
              "    </tr>\n",
              "  </tbody>\n",
              "</table>\n",
              "</div>\n",
              "    <div class=\"colab-df-buttons\">\n",
              "\n",
              "  <div class=\"colab-df-container\">\n",
              "    <button class=\"colab-df-convert\" onclick=\"convertToInteractive('df-701a679e-2867-4170-9cef-4583edca17c8')\"\n",
              "            title=\"Convert this dataframe to an interactive table.\"\n",
              "            style=\"display:none;\">\n",
              "\n",
              "  <svg xmlns=\"http://www.w3.org/2000/svg\" height=\"24px\" viewBox=\"0 -960 960 960\">\n",
              "    <path d=\"M120-120v-720h720v720H120Zm60-500h600v-160H180v160Zm220 220h160v-160H400v160Zm0 220h160v-160H400v160ZM180-400h160v-160H180v160Zm440 0h160v-160H620v160ZM180-180h160v-160H180v160Zm440 0h160v-160H620v160Z\"/>\n",
              "  </svg>\n",
              "    </button>\n",
              "\n",
              "  <style>\n",
              "    .colab-df-container {\n",
              "      display:flex;\n",
              "      gap: 12px;\n",
              "    }\n",
              "\n",
              "    .colab-df-convert {\n",
              "      background-color: #E8F0FE;\n",
              "      border: none;\n",
              "      border-radius: 50%;\n",
              "      cursor: pointer;\n",
              "      display: none;\n",
              "      fill: #1967D2;\n",
              "      height: 32px;\n",
              "      padding: 0 0 0 0;\n",
              "      width: 32px;\n",
              "    }\n",
              "\n",
              "    .colab-df-convert:hover {\n",
              "      background-color: #E2EBFA;\n",
              "      box-shadow: 0px 1px 2px rgba(60, 64, 67, 0.3), 0px 1px 3px 1px rgba(60, 64, 67, 0.15);\n",
              "      fill: #174EA6;\n",
              "    }\n",
              "\n",
              "    .colab-df-buttons div {\n",
              "      margin-bottom: 4px;\n",
              "    }\n",
              "\n",
              "    [theme=dark] .colab-df-convert {\n",
              "      background-color: #3B4455;\n",
              "      fill: #D2E3FC;\n",
              "    }\n",
              "\n",
              "    [theme=dark] .colab-df-convert:hover {\n",
              "      background-color: #434B5C;\n",
              "      box-shadow: 0px 1px 3px 1px rgba(0, 0, 0, 0.15);\n",
              "      filter: drop-shadow(0px 1px 2px rgba(0, 0, 0, 0.3));\n",
              "      fill: #FFFFFF;\n",
              "    }\n",
              "  </style>\n",
              "\n",
              "    <script>\n",
              "      const buttonEl =\n",
              "        document.querySelector('#df-701a679e-2867-4170-9cef-4583edca17c8 button.colab-df-convert');\n",
              "      buttonEl.style.display =\n",
              "        google.colab.kernel.accessAllowed ? 'block' : 'none';\n",
              "\n",
              "      async function convertToInteractive(key) {\n",
              "        const element = document.querySelector('#df-701a679e-2867-4170-9cef-4583edca17c8');\n",
              "        const dataTable =\n",
              "          await google.colab.kernel.invokeFunction('convertToInteractive',\n",
              "                                                    [key], {});\n",
              "        if (!dataTable) return;\n",
              "\n",
              "        const docLinkHtml = 'Like what you see? Visit the ' +\n",
              "          '<a target=\"_blank\" href=https://colab.research.google.com/notebooks/data_table.ipynb>data table notebook</a>'\n",
              "          + ' to learn more about interactive tables.';\n",
              "        element.innerHTML = '';\n",
              "        dataTable['output_type'] = 'display_data';\n",
              "        await google.colab.output.renderOutput(dataTable, element);\n",
              "        const docLink = document.createElement('div');\n",
              "        docLink.innerHTML = docLinkHtml;\n",
              "        element.appendChild(docLink);\n",
              "      }\n",
              "    </script>\n",
              "  </div>\n",
              "\n",
              "\n",
              "<div id=\"df-50214ae0-03b0-4140-a26b-e873c1a556ab\">\n",
              "  <button class=\"colab-df-quickchart\" onclick=\"quickchart('df-50214ae0-03b0-4140-a26b-e873c1a556ab')\"\n",
              "            title=\"Suggest charts\"\n",
              "            style=\"display:none;\">\n",
              "\n",
              "<svg xmlns=\"http://www.w3.org/2000/svg\" height=\"24px\"viewBox=\"0 0 24 24\"\n",
              "     width=\"24px\">\n",
              "    <g>\n",
              "        <path d=\"M19 3H5c-1.1 0-2 .9-2 2v14c0 1.1.9 2 2 2h14c1.1 0 2-.9 2-2V5c0-1.1-.9-2-2-2zM9 17H7v-7h2v7zm4 0h-2V7h2v10zm4 0h-2v-4h2v4z\"/>\n",
              "    </g>\n",
              "</svg>\n",
              "  </button>\n",
              "\n",
              "<style>\n",
              "  .colab-df-quickchart {\n",
              "      --bg-color: #E8F0FE;\n",
              "      --fill-color: #1967D2;\n",
              "      --hover-bg-color: #E2EBFA;\n",
              "      --hover-fill-color: #174EA6;\n",
              "      --disabled-fill-color: #AAA;\n",
              "      --disabled-bg-color: #DDD;\n",
              "  }\n",
              "\n",
              "  [theme=dark] .colab-df-quickchart {\n",
              "      --bg-color: #3B4455;\n",
              "      --fill-color: #D2E3FC;\n",
              "      --hover-bg-color: #434B5C;\n",
              "      --hover-fill-color: #FFFFFF;\n",
              "      --disabled-bg-color: #3B4455;\n",
              "      --disabled-fill-color: #666;\n",
              "  }\n",
              "\n",
              "  .colab-df-quickchart {\n",
              "    background-color: var(--bg-color);\n",
              "    border: none;\n",
              "    border-radius: 50%;\n",
              "    cursor: pointer;\n",
              "    display: none;\n",
              "    fill: var(--fill-color);\n",
              "    height: 32px;\n",
              "    padding: 0;\n",
              "    width: 32px;\n",
              "  }\n",
              "\n",
              "  .colab-df-quickchart:hover {\n",
              "    background-color: var(--hover-bg-color);\n",
              "    box-shadow: 0 1px 2px rgba(60, 64, 67, 0.3), 0 1px 3px 1px rgba(60, 64, 67, 0.15);\n",
              "    fill: var(--button-hover-fill-color);\n",
              "  }\n",
              "\n",
              "  .colab-df-quickchart-complete:disabled,\n",
              "  .colab-df-quickchart-complete:disabled:hover {\n",
              "    background-color: var(--disabled-bg-color);\n",
              "    fill: var(--disabled-fill-color);\n",
              "    box-shadow: none;\n",
              "  }\n",
              "\n",
              "  .colab-df-spinner {\n",
              "    border: 2px solid var(--fill-color);\n",
              "    border-color: transparent;\n",
              "    border-bottom-color: var(--fill-color);\n",
              "    animation:\n",
              "      spin 1s steps(1) infinite;\n",
              "  }\n",
              "\n",
              "  @keyframes spin {\n",
              "    0% {\n",
              "      border-color: transparent;\n",
              "      border-bottom-color: var(--fill-color);\n",
              "      border-left-color: var(--fill-color);\n",
              "    }\n",
              "    20% {\n",
              "      border-color: transparent;\n",
              "      border-left-color: var(--fill-color);\n",
              "      border-top-color: var(--fill-color);\n",
              "    }\n",
              "    30% {\n",
              "      border-color: transparent;\n",
              "      border-left-color: var(--fill-color);\n",
              "      border-top-color: var(--fill-color);\n",
              "      border-right-color: var(--fill-color);\n",
              "    }\n",
              "    40% {\n",
              "      border-color: transparent;\n",
              "      border-right-color: var(--fill-color);\n",
              "      border-top-color: var(--fill-color);\n",
              "    }\n",
              "    60% {\n",
              "      border-color: transparent;\n",
              "      border-right-color: var(--fill-color);\n",
              "    }\n",
              "    80% {\n",
              "      border-color: transparent;\n",
              "      border-right-color: var(--fill-color);\n",
              "      border-bottom-color: var(--fill-color);\n",
              "    }\n",
              "    90% {\n",
              "      border-color: transparent;\n",
              "      border-bottom-color: var(--fill-color);\n",
              "    }\n",
              "  }\n",
              "</style>\n",
              "\n",
              "  <script>\n",
              "    async function quickchart(key) {\n",
              "      const quickchartButtonEl =\n",
              "        document.querySelector('#' + key + ' button');\n",
              "      quickchartButtonEl.disabled = true;  // To prevent multiple clicks.\n",
              "      quickchartButtonEl.classList.add('colab-df-spinner');\n",
              "      try {\n",
              "        const charts = await google.colab.kernel.invokeFunction(\n",
              "            'suggestCharts', [key], {});\n",
              "      } catch (error) {\n",
              "        console.error('Error during call to suggestCharts:', error);\n",
              "      }\n",
              "      quickchartButtonEl.classList.remove('colab-df-spinner');\n",
              "      quickchartButtonEl.classList.add('colab-df-quickchart-complete');\n",
              "    }\n",
              "    (() => {\n",
              "      let quickchartButtonEl =\n",
              "        document.querySelector('#df-50214ae0-03b0-4140-a26b-e873c1a556ab button');\n",
              "      quickchartButtonEl.style.display =\n",
              "        google.colab.kernel.accessAllowed ? 'block' : 'none';\n",
              "    })();\n",
              "  </script>\n",
              "</div>\n",
              "\n",
              "    </div>\n",
              "  </div>\n"
            ],
            "application/vnd.google.colaboratory.intrinsic+json": {
              "type": "dataframe",
              "variable_name": "data",
              "summary": "{\n  \"name\": \"data\",\n  \"rows\": 891,\n  \"fields\": [\n    {\n      \"column\": \"PassengerId\",\n      \"properties\": {\n        \"dtype\": \"number\",\n        \"std\": 257,\n        \"min\": 1,\n        \"max\": 891,\n        \"num_unique_values\": 891,\n        \"samples\": [\n          710,\n          440,\n          841\n        ],\n        \"semantic_type\": \"\",\n        \"description\": \"\"\n      }\n    },\n    {\n      \"column\": \"Survived\",\n      \"properties\": {\n        \"dtype\": \"number\",\n        \"std\": 0,\n        \"min\": 0,\n        \"max\": 1,\n        \"num_unique_values\": 2,\n        \"samples\": [\n          1,\n          0\n        ],\n        \"semantic_type\": \"\",\n        \"description\": \"\"\n      }\n    },\n    {\n      \"column\": \"Pclass\",\n      \"properties\": {\n        \"dtype\": \"number\",\n        \"std\": 0,\n        \"min\": 1,\n        \"max\": 3,\n        \"num_unique_values\": 3,\n        \"samples\": [\n          3,\n          1\n        ],\n        \"semantic_type\": \"\",\n        \"description\": \"\"\n      }\n    },\n    {\n      \"column\": \"Name\",\n      \"properties\": {\n        \"dtype\": \"string\",\n        \"num_unique_values\": 891,\n        \"samples\": [\n          \"Moubarek, Master. Halim Gonios (\\\"William George\\\")\",\n          \"Kvillner, Mr. Johan Henrik Johannesson\"\n        ],\n        \"semantic_type\": \"\",\n        \"description\": \"\"\n      }\n    },\n    {\n      \"column\": \"Sex\",\n      \"properties\": {\n        \"dtype\": \"category\",\n        \"num_unique_values\": 2,\n        \"samples\": [\n          \"female\",\n          \"male\"\n        ],\n        \"semantic_type\": \"\",\n        \"description\": \"\"\n      }\n    },\n    {\n      \"column\": \"Age\",\n      \"properties\": {\n        \"dtype\": \"number\",\n        \"std\": 14.526497332334042,\n        \"min\": 0.42,\n        \"max\": 80.0,\n        \"num_unique_values\": 88,\n        \"samples\": [\n          0.75,\n          22.0\n        ],\n        \"semantic_type\": \"\",\n        \"description\": \"\"\n      }\n    },\n    {\n      \"column\": \"SibSp\",\n      \"properties\": {\n        \"dtype\": \"number\",\n        \"std\": 1,\n        \"min\": 0,\n        \"max\": 8,\n        \"num_unique_values\": 7,\n        \"samples\": [\n          1,\n          0\n        ],\n        \"semantic_type\": \"\",\n        \"description\": \"\"\n      }\n    },\n    {\n      \"column\": \"Parch\",\n      \"properties\": {\n        \"dtype\": \"number\",\n        \"std\": 0,\n        \"min\": 0,\n        \"max\": 6,\n        \"num_unique_values\": 7,\n        \"samples\": [\n          0,\n          1\n        ],\n        \"semantic_type\": \"\",\n        \"description\": \"\"\n      }\n    },\n    {\n      \"column\": \"Ticket\",\n      \"properties\": {\n        \"dtype\": \"string\",\n        \"num_unique_values\": 681,\n        \"samples\": [\n          \"11774\",\n          \"248740\"\n        ],\n        \"semantic_type\": \"\",\n        \"description\": \"\"\n      }\n    },\n    {\n      \"column\": \"Fare\",\n      \"properties\": {\n        \"dtype\": \"number\",\n        \"std\": 49.6934285971809,\n        \"min\": 0.0,\n        \"max\": 512.3292,\n        \"num_unique_values\": 248,\n        \"samples\": [\n          11.2417,\n          51.8625\n        ],\n        \"semantic_type\": \"\",\n        \"description\": \"\"\n      }\n    },\n    {\n      \"column\": \"Cabin\",\n      \"properties\": {\n        \"dtype\": \"category\",\n        \"num_unique_values\": 147,\n        \"samples\": [\n          \"D45\",\n          \"B49\"\n        ],\n        \"semantic_type\": \"\",\n        \"description\": \"\"\n      }\n    },\n    {\n      \"column\": \"Embarked\",\n      \"properties\": {\n        \"dtype\": \"category\",\n        \"num_unique_values\": 3,\n        \"samples\": [\n          \"S\",\n          \"C\"\n        ],\n        \"semantic_type\": \"\",\n        \"description\": \"\"\n      }\n    }\n  ]\n}"
            }
          },
          "metadata": {},
          "execution_count": 3
        }
      ]
    },
    {
      "cell_type": "code",
      "source": [
        "data.info()"
      ],
      "metadata": {
        "colab": {
          "base_uri": "https://localhost:8080/"
        },
        "id": "zXmq7nMT0s_D",
        "outputId": "ca73fbbc-c2c4-4c6f-d0b3-0b3816ac5ddf"
      },
      "execution_count": null,
      "outputs": [
        {
          "output_type": "stream",
          "name": "stdout",
          "text": [
            "<class 'pandas.core.frame.DataFrame'>\n",
            "RangeIndex: 891 entries, 0 to 890\n",
            "Data columns (total 12 columns):\n",
            " #   Column       Non-Null Count  Dtype  \n",
            "---  ------       --------------  -----  \n",
            " 0   PassengerId  891 non-null    int64  \n",
            " 1   Survived     891 non-null    int64  \n",
            " 2   Pclass       891 non-null    int64  \n",
            " 3   Name         891 non-null    object \n",
            " 4   Sex          891 non-null    object \n",
            " 5   Age          714 non-null    float64\n",
            " 6   SibSp        891 non-null    int64  \n",
            " 7   Parch        891 non-null    int64  \n",
            " 8   Ticket       891 non-null    object \n",
            " 9   Fare         891 non-null    float64\n",
            " 10  Cabin        204 non-null    object \n",
            " 11  Embarked     889 non-null    object \n",
            "dtypes: float64(2), int64(5), object(5)\n",
            "memory usage: 83.7+ KB\n"
          ]
        }
      ]
    },
    {
      "cell_type": "code",
      "source": [
        "data.columns"
      ],
      "metadata": {
        "colab": {
          "base_uri": "https://localhost:8080/"
        },
        "id": "NPJ7O0oh01Cz",
        "outputId": "237c18ab-c215-4641-9d9f-08025c1a51ed"
      },
      "execution_count": null,
      "outputs": [
        {
          "output_type": "execute_result",
          "data": {
            "text/plain": [
              "Index(['PassengerId', 'Survived', 'Pclass', 'Name', 'Sex', 'Age', 'SibSp',\n",
              "       'Parch', 'Ticket', 'Fare', 'Cabin', 'Embarked'],\n",
              "      dtype='object')"
            ]
          },
          "metadata": {},
          "execution_count": 5
        }
      ]
    },
    {
      "cell_type": "code",
      "source": [
        "cols_to_drop = ['PassengerId', 'Name', 'Ticket', 'Cabin', 'Embarked']"
      ],
      "metadata": {
        "id": "LtPd2v752C1z"
      },
      "execution_count": null,
      "outputs": []
    },
    {
      "cell_type": "code",
      "source": [
        "clean_data = data.drop(cols_to_drop, axis=1)"
      ],
      "metadata": {
        "id": "PhiMoNaR2rOH"
      },
      "execution_count": null,
      "outputs": []
    },
    {
      "cell_type": "code",
      "source": [
        "clean_data.head()"
      ],
      "metadata": {
        "colab": {
          "base_uri": "https://localhost:8080/",
          "height": 206
        },
        "id": "YHHb1Zt32-x2",
        "outputId": "71d03aec-48d2-4c46-8cbe-f5273a5165d0"
      },
      "execution_count": null,
      "outputs": [
        {
          "output_type": "execute_result",
          "data": {
            "text/plain": [
              "   Survived  Pclass     Sex   Age  SibSp  Parch     Fare\n",
              "0         0       3    male  22.0      1      0   7.2500\n",
              "1         1       1  female  38.0      1      0  71.2833\n",
              "2         1       3  female  26.0      0      0   7.9250\n",
              "3         1       1  female  35.0      1      0  53.1000\n",
              "4         0       3    male  35.0      0      0   8.0500"
            ],
            "text/html": [
              "\n",
              "  <div id=\"df-87f5f527-d7b3-4ed7-a2b6-e3722e866898\" class=\"colab-df-container\">\n",
              "    <div>\n",
              "<style scoped>\n",
              "    .dataframe tbody tr th:only-of-type {\n",
              "        vertical-align: middle;\n",
              "    }\n",
              "\n",
              "    .dataframe tbody tr th {\n",
              "        vertical-align: top;\n",
              "    }\n",
              "\n",
              "    .dataframe thead th {\n",
              "        text-align: right;\n",
              "    }\n",
              "</style>\n",
              "<table border=\"1\" class=\"dataframe\">\n",
              "  <thead>\n",
              "    <tr style=\"text-align: right;\">\n",
              "      <th></th>\n",
              "      <th>Survived</th>\n",
              "      <th>Pclass</th>\n",
              "      <th>Sex</th>\n",
              "      <th>Age</th>\n",
              "      <th>SibSp</th>\n",
              "      <th>Parch</th>\n",
              "      <th>Fare</th>\n",
              "    </tr>\n",
              "  </thead>\n",
              "  <tbody>\n",
              "    <tr>\n",
              "      <th>0</th>\n",
              "      <td>0</td>\n",
              "      <td>3</td>\n",
              "      <td>male</td>\n",
              "      <td>22.0</td>\n",
              "      <td>1</td>\n",
              "      <td>0</td>\n",
              "      <td>7.2500</td>\n",
              "    </tr>\n",
              "    <tr>\n",
              "      <th>1</th>\n",
              "      <td>1</td>\n",
              "      <td>1</td>\n",
              "      <td>female</td>\n",
              "      <td>38.0</td>\n",
              "      <td>1</td>\n",
              "      <td>0</td>\n",
              "      <td>71.2833</td>\n",
              "    </tr>\n",
              "    <tr>\n",
              "      <th>2</th>\n",
              "      <td>1</td>\n",
              "      <td>3</td>\n",
              "      <td>female</td>\n",
              "      <td>26.0</td>\n",
              "      <td>0</td>\n",
              "      <td>0</td>\n",
              "      <td>7.9250</td>\n",
              "    </tr>\n",
              "    <tr>\n",
              "      <th>3</th>\n",
              "      <td>1</td>\n",
              "      <td>1</td>\n",
              "      <td>female</td>\n",
              "      <td>35.0</td>\n",
              "      <td>1</td>\n",
              "      <td>0</td>\n",
              "      <td>53.1000</td>\n",
              "    </tr>\n",
              "    <tr>\n",
              "      <th>4</th>\n",
              "      <td>0</td>\n",
              "      <td>3</td>\n",
              "      <td>male</td>\n",
              "      <td>35.0</td>\n",
              "      <td>0</td>\n",
              "      <td>0</td>\n",
              "      <td>8.0500</td>\n",
              "    </tr>\n",
              "  </tbody>\n",
              "</table>\n",
              "</div>\n",
              "    <div class=\"colab-df-buttons\">\n",
              "\n",
              "  <div class=\"colab-df-container\">\n",
              "    <button class=\"colab-df-convert\" onclick=\"convertToInteractive('df-87f5f527-d7b3-4ed7-a2b6-e3722e866898')\"\n",
              "            title=\"Convert this dataframe to an interactive table.\"\n",
              "            style=\"display:none;\">\n",
              "\n",
              "  <svg xmlns=\"http://www.w3.org/2000/svg\" height=\"24px\" viewBox=\"0 -960 960 960\">\n",
              "    <path d=\"M120-120v-720h720v720H120Zm60-500h600v-160H180v160Zm220 220h160v-160H400v160Zm0 220h160v-160H400v160ZM180-400h160v-160H180v160Zm440 0h160v-160H620v160ZM180-180h160v-160H180v160Zm440 0h160v-160H620v160Z\"/>\n",
              "  </svg>\n",
              "    </button>\n",
              "\n",
              "  <style>\n",
              "    .colab-df-container {\n",
              "      display:flex;\n",
              "      gap: 12px;\n",
              "    }\n",
              "\n",
              "    .colab-df-convert {\n",
              "      background-color: #E8F0FE;\n",
              "      border: none;\n",
              "      border-radius: 50%;\n",
              "      cursor: pointer;\n",
              "      display: none;\n",
              "      fill: #1967D2;\n",
              "      height: 32px;\n",
              "      padding: 0 0 0 0;\n",
              "      width: 32px;\n",
              "    }\n",
              "\n",
              "    .colab-df-convert:hover {\n",
              "      background-color: #E2EBFA;\n",
              "      box-shadow: 0px 1px 2px rgba(60, 64, 67, 0.3), 0px 1px 3px 1px rgba(60, 64, 67, 0.15);\n",
              "      fill: #174EA6;\n",
              "    }\n",
              "\n",
              "    .colab-df-buttons div {\n",
              "      margin-bottom: 4px;\n",
              "    }\n",
              "\n",
              "    [theme=dark] .colab-df-convert {\n",
              "      background-color: #3B4455;\n",
              "      fill: #D2E3FC;\n",
              "    }\n",
              "\n",
              "    [theme=dark] .colab-df-convert:hover {\n",
              "      background-color: #434B5C;\n",
              "      box-shadow: 0px 1px 3px 1px rgba(0, 0, 0, 0.15);\n",
              "      filter: drop-shadow(0px 1px 2px rgba(0, 0, 0, 0.3));\n",
              "      fill: #FFFFFF;\n",
              "    }\n",
              "  </style>\n",
              "\n",
              "    <script>\n",
              "      const buttonEl =\n",
              "        document.querySelector('#df-87f5f527-d7b3-4ed7-a2b6-e3722e866898 button.colab-df-convert');\n",
              "      buttonEl.style.display =\n",
              "        google.colab.kernel.accessAllowed ? 'block' : 'none';\n",
              "\n",
              "      async function convertToInteractive(key) {\n",
              "        const element = document.querySelector('#df-87f5f527-d7b3-4ed7-a2b6-e3722e866898');\n",
              "        const dataTable =\n",
              "          await google.colab.kernel.invokeFunction('convertToInteractive',\n",
              "                                                    [key], {});\n",
              "        if (!dataTable) return;\n",
              "\n",
              "        const docLinkHtml = 'Like what you see? Visit the ' +\n",
              "          '<a target=\"_blank\" href=https://colab.research.google.com/notebooks/data_table.ipynb>data table notebook</a>'\n",
              "          + ' to learn more about interactive tables.';\n",
              "        element.innerHTML = '';\n",
              "        dataTable['output_type'] = 'display_data';\n",
              "        await google.colab.output.renderOutput(dataTable, element);\n",
              "        const docLink = document.createElement('div');\n",
              "        docLink.innerHTML = docLinkHtml;\n",
              "        element.appendChild(docLink);\n",
              "      }\n",
              "    </script>\n",
              "  </div>\n",
              "\n",
              "\n",
              "<div id=\"df-0384ad19-7d2c-4d5e-a85d-6521cc94de2e\">\n",
              "  <button class=\"colab-df-quickchart\" onclick=\"quickchart('df-0384ad19-7d2c-4d5e-a85d-6521cc94de2e')\"\n",
              "            title=\"Suggest charts\"\n",
              "            style=\"display:none;\">\n",
              "\n",
              "<svg xmlns=\"http://www.w3.org/2000/svg\" height=\"24px\"viewBox=\"0 0 24 24\"\n",
              "     width=\"24px\">\n",
              "    <g>\n",
              "        <path d=\"M19 3H5c-1.1 0-2 .9-2 2v14c0 1.1.9 2 2 2h14c1.1 0 2-.9 2-2V5c0-1.1-.9-2-2-2zM9 17H7v-7h2v7zm4 0h-2V7h2v10zm4 0h-2v-4h2v4z\"/>\n",
              "    </g>\n",
              "</svg>\n",
              "  </button>\n",
              "\n",
              "<style>\n",
              "  .colab-df-quickchart {\n",
              "      --bg-color: #E8F0FE;\n",
              "      --fill-color: #1967D2;\n",
              "      --hover-bg-color: #E2EBFA;\n",
              "      --hover-fill-color: #174EA6;\n",
              "      --disabled-fill-color: #AAA;\n",
              "      --disabled-bg-color: #DDD;\n",
              "  }\n",
              "\n",
              "  [theme=dark] .colab-df-quickchart {\n",
              "      --bg-color: #3B4455;\n",
              "      --fill-color: #D2E3FC;\n",
              "      --hover-bg-color: #434B5C;\n",
              "      --hover-fill-color: #FFFFFF;\n",
              "      --disabled-bg-color: #3B4455;\n",
              "      --disabled-fill-color: #666;\n",
              "  }\n",
              "\n",
              "  .colab-df-quickchart {\n",
              "    background-color: var(--bg-color);\n",
              "    border: none;\n",
              "    border-radius: 50%;\n",
              "    cursor: pointer;\n",
              "    display: none;\n",
              "    fill: var(--fill-color);\n",
              "    height: 32px;\n",
              "    padding: 0;\n",
              "    width: 32px;\n",
              "  }\n",
              "\n",
              "  .colab-df-quickchart:hover {\n",
              "    background-color: var(--hover-bg-color);\n",
              "    box-shadow: 0 1px 2px rgba(60, 64, 67, 0.3), 0 1px 3px 1px rgba(60, 64, 67, 0.15);\n",
              "    fill: var(--button-hover-fill-color);\n",
              "  }\n",
              "\n",
              "  .colab-df-quickchart-complete:disabled,\n",
              "  .colab-df-quickchart-complete:disabled:hover {\n",
              "    background-color: var(--disabled-bg-color);\n",
              "    fill: var(--disabled-fill-color);\n",
              "    box-shadow: none;\n",
              "  }\n",
              "\n",
              "  .colab-df-spinner {\n",
              "    border: 2px solid var(--fill-color);\n",
              "    border-color: transparent;\n",
              "    border-bottom-color: var(--fill-color);\n",
              "    animation:\n",
              "      spin 1s steps(1) infinite;\n",
              "  }\n",
              "\n",
              "  @keyframes spin {\n",
              "    0% {\n",
              "      border-color: transparent;\n",
              "      border-bottom-color: var(--fill-color);\n",
              "      border-left-color: var(--fill-color);\n",
              "    }\n",
              "    20% {\n",
              "      border-color: transparent;\n",
              "      border-left-color: var(--fill-color);\n",
              "      border-top-color: var(--fill-color);\n",
              "    }\n",
              "    30% {\n",
              "      border-color: transparent;\n",
              "      border-left-color: var(--fill-color);\n",
              "      border-top-color: var(--fill-color);\n",
              "      border-right-color: var(--fill-color);\n",
              "    }\n",
              "    40% {\n",
              "      border-color: transparent;\n",
              "      border-right-color: var(--fill-color);\n",
              "      border-top-color: var(--fill-color);\n",
              "    }\n",
              "    60% {\n",
              "      border-color: transparent;\n",
              "      border-right-color: var(--fill-color);\n",
              "    }\n",
              "    80% {\n",
              "      border-color: transparent;\n",
              "      border-right-color: var(--fill-color);\n",
              "      border-bottom-color: var(--fill-color);\n",
              "    }\n",
              "    90% {\n",
              "      border-color: transparent;\n",
              "      border-bottom-color: var(--fill-color);\n",
              "    }\n",
              "  }\n",
              "</style>\n",
              "\n",
              "  <script>\n",
              "    async function quickchart(key) {\n",
              "      const quickchartButtonEl =\n",
              "        document.querySelector('#' + key + ' button');\n",
              "      quickchartButtonEl.disabled = true;  // To prevent multiple clicks.\n",
              "      quickchartButtonEl.classList.add('colab-df-spinner');\n",
              "      try {\n",
              "        const charts = await google.colab.kernel.invokeFunction(\n",
              "            'suggestCharts', [key], {});\n",
              "      } catch (error) {\n",
              "        console.error('Error during call to suggestCharts:', error);\n",
              "      }\n",
              "      quickchartButtonEl.classList.remove('colab-df-spinner');\n",
              "      quickchartButtonEl.classList.add('colab-df-quickchart-complete');\n",
              "    }\n",
              "    (() => {\n",
              "      let quickchartButtonEl =\n",
              "        document.querySelector('#df-0384ad19-7d2c-4d5e-a85d-6521cc94de2e button');\n",
              "      quickchartButtonEl.style.display =\n",
              "        google.colab.kernel.accessAllowed ? 'block' : 'none';\n",
              "    })();\n",
              "  </script>\n",
              "</div>\n",
              "\n",
              "    </div>\n",
              "  </div>\n"
            ],
            "application/vnd.google.colaboratory.intrinsic+json": {
              "type": "dataframe",
              "variable_name": "clean_data",
              "summary": "{\n  \"name\": \"clean_data\",\n  \"rows\": 891,\n  \"fields\": [\n    {\n      \"column\": \"Survived\",\n      \"properties\": {\n        \"dtype\": \"number\",\n        \"std\": 0,\n        \"min\": 0,\n        \"max\": 1,\n        \"num_unique_values\": 2,\n        \"samples\": [\n          1,\n          0\n        ],\n        \"semantic_type\": \"\",\n        \"description\": \"\"\n      }\n    },\n    {\n      \"column\": \"Pclass\",\n      \"properties\": {\n        \"dtype\": \"number\",\n        \"std\": 0,\n        \"min\": 1,\n        \"max\": 3,\n        \"num_unique_values\": 3,\n        \"samples\": [\n          3,\n          1\n        ],\n        \"semantic_type\": \"\",\n        \"description\": \"\"\n      }\n    },\n    {\n      \"column\": \"Sex\",\n      \"properties\": {\n        \"dtype\": \"category\",\n        \"num_unique_values\": 2,\n        \"samples\": [\n          \"female\",\n          \"male\"\n        ],\n        \"semantic_type\": \"\",\n        \"description\": \"\"\n      }\n    },\n    {\n      \"column\": \"Age\",\n      \"properties\": {\n        \"dtype\": \"number\",\n        \"std\": 14.526497332334042,\n        \"min\": 0.42,\n        \"max\": 80.0,\n        \"num_unique_values\": 88,\n        \"samples\": [\n          0.75,\n          22.0\n        ],\n        \"semantic_type\": \"\",\n        \"description\": \"\"\n      }\n    },\n    {\n      \"column\": \"SibSp\",\n      \"properties\": {\n        \"dtype\": \"number\",\n        \"std\": 1,\n        \"min\": 0,\n        \"max\": 8,\n        \"num_unique_values\": 7,\n        \"samples\": [\n          1,\n          0\n        ],\n        \"semantic_type\": \"\",\n        \"description\": \"\"\n      }\n    },\n    {\n      \"column\": \"Parch\",\n      \"properties\": {\n        \"dtype\": \"number\",\n        \"std\": 0,\n        \"min\": 0,\n        \"max\": 6,\n        \"num_unique_values\": 7,\n        \"samples\": [\n          0,\n          1\n        ],\n        \"semantic_type\": \"\",\n        \"description\": \"\"\n      }\n    },\n    {\n      \"column\": \"Fare\",\n      \"properties\": {\n        \"dtype\": \"number\",\n        \"std\": 49.6934285971809,\n        \"min\": 0.0,\n        \"max\": 512.3292,\n        \"num_unique_values\": 248,\n        \"samples\": [\n          11.2417,\n          51.8625\n        ],\n        \"semantic_type\": \"\",\n        \"description\": \"\"\n      }\n    }\n  ]\n}"
            }
          },
          "metadata": {},
          "execution_count": 8
        }
      ]
    },
    {
      "cell_type": "code",
      "source": [
        "from sklearn.preprocessing import LabelEncoder"
      ],
      "metadata": {
        "id": "MeQwoR8b3Em3"
      },
      "execution_count": null,
      "outputs": []
    },
    {
      "cell_type": "code",
      "source": [
        "le = LabelEncoder()"
      ],
      "metadata": {
        "id": "DO9nunFz4CUI"
      },
      "execution_count": null,
      "outputs": []
    },
    {
      "cell_type": "code",
      "source": [
        "clean_data['Sex'] = le.fit_transform(clean_data['Sex'])"
      ],
      "metadata": {
        "id": "pR8VjiWx4Jxq"
      },
      "execution_count": null,
      "outputs": []
    },
    {
      "cell_type": "code",
      "source": [
        "clean_data.head()"
      ],
      "metadata": {
        "colab": {
          "base_uri": "https://localhost:8080/",
          "height": 206
        },
        "id": "CtydIzjQ4bZE",
        "outputId": "b48c6d25-1419-448f-ecaf-6d381e9f7d71"
      },
      "execution_count": null,
      "outputs": [
        {
          "output_type": "execute_result",
          "data": {
            "text/plain": [
              "   Survived  Pclass  Sex   Age  SibSp  Parch     Fare\n",
              "0         0       3    1  22.0      1      0   7.2500\n",
              "1         1       1    0  38.0      1      0  71.2833\n",
              "2         1       3    0  26.0      0      0   7.9250\n",
              "3         1       1    0  35.0      1      0  53.1000\n",
              "4         0       3    1  35.0      0      0   8.0500"
            ],
            "text/html": [
              "\n",
              "  <div id=\"df-d5a8fbb9-bb32-41de-9620-c69b3f382b8d\" class=\"colab-df-container\">\n",
              "    <div>\n",
              "<style scoped>\n",
              "    .dataframe tbody tr th:only-of-type {\n",
              "        vertical-align: middle;\n",
              "    }\n",
              "\n",
              "    .dataframe tbody tr th {\n",
              "        vertical-align: top;\n",
              "    }\n",
              "\n",
              "    .dataframe thead th {\n",
              "        text-align: right;\n",
              "    }\n",
              "</style>\n",
              "<table border=\"1\" class=\"dataframe\">\n",
              "  <thead>\n",
              "    <tr style=\"text-align: right;\">\n",
              "      <th></th>\n",
              "      <th>Survived</th>\n",
              "      <th>Pclass</th>\n",
              "      <th>Sex</th>\n",
              "      <th>Age</th>\n",
              "      <th>SibSp</th>\n",
              "      <th>Parch</th>\n",
              "      <th>Fare</th>\n",
              "    </tr>\n",
              "  </thead>\n",
              "  <tbody>\n",
              "    <tr>\n",
              "      <th>0</th>\n",
              "      <td>0</td>\n",
              "      <td>3</td>\n",
              "      <td>1</td>\n",
              "      <td>22.0</td>\n",
              "      <td>1</td>\n",
              "      <td>0</td>\n",
              "      <td>7.2500</td>\n",
              "    </tr>\n",
              "    <tr>\n",
              "      <th>1</th>\n",
              "      <td>1</td>\n",
              "      <td>1</td>\n",
              "      <td>0</td>\n",
              "      <td>38.0</td>\n",
              "      <td>1</td>\n",
              "      <td>0</td>\n",
              "      <td>71.2833</td>\n",
              "    </tr>\n",
              "    <tr>\n",
              "      <th>2</th>\n",
              "      <td>1</td>\n",
              "      <td>3</td>\n",
              "      <td>0</td>\n",
              "      <td>26.0</td>\n",
              "      <td>0</td>\n",
              "      <td>0</td>\n",
              "      <td>7.9250</td>\n",
              "    </tr>\n",
              "    <tr>\n",
              "      <th>3</th>\n",
              "      <td>1</td>\n",
              "      <td>1</td>\n",
              "      <td>0</td>\n",
              "      <td>35.0</td>\n",
              "      <td>1</td>\n",
              "      <td>0</td>\n",
              "      <td>53.1000</td>\n",
              "    </tr>\n",
              "    <tr>\n",
              "      <th>4</th>\n",
              "      <td>0</td>\n",
              "      <td>3</td>\n",
              "      <td>1</td>\n",
              "      <td>35.0</td>\n",
              "      <td>0</td>\n",
              "      <td>0</td>\n",
              "      <td>8.0500</td>\n",
              "    </tr>\n",
              "  </tbody>\n",
              "</table>\n",
              "</div>\n",
              "    <div class=\"colab-df-buttons\">\n",
              "\n",
              "  <div class=\"colab-df-container\">\n",
              "    <button class=\"colab-df-convert\" onclick=\"convertToInteractive('df-d5a8fbb9-bb32-41de-9620-c69b3f382b8d')\"\n",
              "            title=\"Convert this dataframe to an interactive table.\"\n",
              "            style=\"display:none;\">\n",
              "\n",
              "  <svg xmlns=\"http://www.w3.org/2000/svg\" height=\"24px\" viewBox=\"0 -960 960 960\">\n",
              "    <path d=\"M120-120v-720h720v720H120Zm60-500h600v-160H180v160Zm220 220h160v-160H400v160Zm0 220h160v-160H400v160ZM180-400h160v-160H180v160Zm440 0h160v-160H620v160ZM180-180h160v-160H180v160Zm440 0h160v-160H620v160Z\"/>\n",
              "  </svg>\n",
              "    </button>\n",
              "\n",
              "  <style>\n",
              "    .colab-df-container {\n",
              "      display:flex;\n",
              "      gap: 12px;\n",
              "    }\n",
              "\n",
              "    .colab-df-convert {\n",
              "      background-color: #E8F0FE;\n",
              "      border: none;\n",
              "      border-radius: 50%;\n",
              "      cursor: pointer;\n",
              "      display: none;\n",
              "      fill: #1967D2;\n",
              "      height: 32px;\n",
              "      padding: 0 0 0 0;\n",
              "      width: 32px;\n",
              "    }\n",
              "\n",
              "    .colab-df-convert:hover {\n",
              "      background-color: #E2EBFA;\n",
              "      box-shadow: 0px 1px 2px rgba(60, 64, 67, 0.3), 0px 1px 3px 1px rgba(60, 64, 67, 0.15);\n",
              "      fill: #174EA6;\n",
              "    }\n",
              "\n",
              "    .colab-df-buttons div {\n",
              "      margin-bottom: 4px;\n",
              "    }\n",
              "\n",
              "    [theme=dark] .colab-df-convert {\n",
              "      background-color: #3B4455;\n",
              "      fill: #D2E3FC;\n",
              "    }\n",
              "\n",
              "    [theme=dark] .colab-df-convert:hover {\n",
              "      background-color: #434B5C;\n",
              "      box-shadow: 0px 1px 3px 1px rgba(0, 0, 0, 0.15);\n",
              "      filter: drop-shadow(0px 1px 2px rgba(0, 0, 0, 0.3));\n",
              "      fill: #FFFFFF;\n",
              "    }\n",
              "  </style>\n",
              "\n",
              "    <script>\n",
              "      const buttonEl =\n",
              "        document.querySelector('#df-d5a8fbb9-bb32-41de-9620-c69b3f382b8d button.colab-df-convert');\n",
              "      buttonEl.style.display =\n",
              "        google.colab.kernel.accessAllowed ? 'block' : 'none';\n",
              "\n",
              "      async function convertToInteractive(key) {\n",
              "        const element = document.querySelector('#df-d5a8fbb9-bb32-41de-9620-c69b3f382b8d');\n",
              "        const dataTable =\n",
              "          await google.colab.kernel.invokeFunction('convertToInteractive',\n",
              "                                                    [key], {});\n",
              "        if (!dataTable) return;\n",
              "\n",
              "        const docLinkHtml = 'Like what you see? Visit the ' +\n",
              "          '<a target=\"_blank\" href=https://colab.research.google.com/notebooks/data_table.ipynb>data table notebook</a>'\n",
              "          + ' to learn more about interactive tables.';\n",
              "        element.innerHTML = '';\n",
              "        dataTable['output_type'] = 'display_data';\n",
              "        await google.colab.output.renderOutput(dataTable, element);\n",
              "        const docLink = document.createElement('div');\n",
              "        docLink.innerHTML = docLinkHtml;\n",
              "        element.appendChild(docLink);\n",
              "      }\n",
              "    </script>\n",
              "  </div>\n",
              "\n",
              "\n",
              "<div id=\"df-9d1a9dd8-4865-4008-9049-e3680e7c34bf\">\n",
              "  <button class=\"colab-df-quickchart\" onclick=\"quickchart('df-9d1a9dd8-4865-4008-9049-e3680e7c34bf')\"\n",
              "            title=\"Suggest charts\"\n",
              "            style=\"display:none;\">\n",
              "\n",
              "<svg xmlns=\"http://www.w3.org/2000/svg\" height=\"24px\"viewBox=\"0 0 24 24\"\n",
              "     width=\"24px\">\n",
              "    <g>\n",
              "        <path d=\"M19 3H5c-1.1 0-2 .9-2 2v14c0 1.1.9 2 2 2h14c1.1 0 2-.9 2-2V5c0-1.1-.9-2-2-2zM9 17H7v-7h2v7zm4 0h-2V7h2v10zm4 0h-2v-4h2v4z\"/>\n",
              "    </g>\n",
              "</svg>\n",
              "  </button>\n",
              "\n",
              "<style>\n",
              "  .colab-df-quickchart {\n",
              "      --bg-color: #E8F0FE;\n",
              "      --fill-color: #1967D2;\n",
              "      --hover-bg-color: #E2EBFA;\n",
              "      --hover-fill-color: #174EA6;\n",
              "      --disabled-fill-color: #AAA;\n",
              "      --disabled-bg-color: #DDD;\n",
              "  }\n",
              "\n",
              "  [theme=dark] .colab-df-quickchart {\n",
              "      --bg-color: #3B4455;\n",
              "      --fill-color: #D2E3FC;\n",
              "      --hover-bg-color: #434B5C;\n",
              "      --hover-fill-color: #FFFFFF;\n",
              "      --disabled-bg-color: #3B4455;\n",
              "      --disabled-fill-color: #666;\n",
              "  }\n",
              "\n",
              "  .colab-df-quickchart {\n",
              "    background-color: var(--bg-color);\n",
              "    border: none;\n",
              "    border-radius: 50%;\n",
              "    cursor: pointer;\n",
              "    display: none;\n",
              "    fill: var(--fill-color);\n",
              "    height: 32px;\n",
              "    padding: 0;\n",
              "    width: 32px;\n",
              "  }\n",
              "\n",
              "  .colab-df-quickchart:hover {\n",
              "    background-color: var(--hover-bg-color);\n",
              "    box-shadow: 0 1px 2px rgba(60, 64, 67, 0.3), 0 1px 3px 1px rgba(60, 64, 67, 0.15);\n",
              "    fill: var(--button-hover-fill-color);\n",
              "  }\n",
              "\n",
              "  .colab-df-quickchart-complete:disabled,\n",
              "  .colab-df-quickchart-complete:disabled:hover {\n",
              "    background-color: var(--disabled-bg-color);\n",
              "    fill: var(--disabled-fill-color);\n",
              "    box-shadow: none;\n",
              "  }\n",
              "\n",
              "  .colab-df-spinner {\n",
              "    border: 2px solid var(--fill-color);\n",
              "    border-color: transparent;\n",
              "    border-bottom-color: var(--fill-color);\n",
              "    animation:\n",
              "      spin 1s steps(1) infinite;\n",
              "  }\n",
              "\n",
              "  @keyframes spin {\n",
              "    0% {\n",
              "      border-color: transparent;\n",
              "      border-bottom-color: var(--fill-color);\n",
              "      border-left-color: var(--fill-color);\n",
              "    }\n",
              "    20% {\n",
              "      border-color: transparent;\n",
              "      border-left-color: var(--fill-color);\n",
              "      border-top-color: var(--fill-color);\n",
              "    }\n",
              "    30% {\n",
              "      border-color: transparent;\n",
              "      border-left-color: var(--fill-color);\n",
              "      border-top-color: var(--fill-color);\n",
              "      border-right-color: var(--fill-color);\n",
              "    }\n",
              "    40% {\n",
              "      border-color: transparent;\n",
              "      border-right-color: var(--fill-color);\n",
              "      border-top-color: var(--fill-color);\n",
              "    }\n",
              "    60% {\n",
              "      border-color: transparent;\n",
              "      border-right-color: var(--fill-color);\n",
              "    }\n",
              "    80% {\n",
              "      border-color: transparent;\n",
              "      border-right-color: var(--fill-color);\n",
              "      border-bottom-color: var(--fill-color);\n",
              "    }\n",
              "    90% {\n",
              "      border-color: transparent;\n",
              "      border-bottom-color: var(--fill-color);\n",
              "    }\n",
              "  }\n",
              "</style>\n",
              "\n",
              "  <script>\n",
              "    async function quickchart(key) {\n",
              "      const quickchartButtonEl =\n",
              "        document.querySelector('#' + key + ' button');\n",
              "      quickchartButtonEl.disabled = true;  // To prevent multiple clicks.\n",
              "      quickchartButtonEl.classList.add('colab-df-spinner');\n",
              "      try {\n",
              "        const charts = await google.colab.kernel.invokeFunction(\n",
              "            'suggestCharts', [key], {});\n",
              "      } catch (error) {\n",
              "        console.error('Error during call to suggestCharts:', error);\n",
              "      }\n",
              "      quickchartButtonEl.classList.remove('colab-df-spinner');\n",
              "      quickchartButtonEl.classList.add('colab-df-quickchart-complete');\n",
              "    }\n",
              "    (() => {\n",
              "      let quickchartButtonEl =\n",
              "        document.querySelector('#df-9d1a9dd8-4865-4008-9049-e3680e7c34bf button');\n",
              "      quickchartButtonEl.style.display =\n",
              "        google.colab.kernel.accessAllowed ? 'block' : 'none';\n",
              "    })();\n",
              "  </script>\n",
              "</div>\n",
              "\n",
              "    </div>\n",
              "  </div>\n"
            ],
            "application/vnd.google.colaboratory.intrinsic+json": {
              "type": "dataframe",
              "variable_name": "clean_data",
              "summary": "{\n  \"name\": \"clean_data\",\n  \"rows\": 891,\n  \"fields\": [\n    {\n      \"column\": \"Survived\",\n      \"properties\": {\n        \"dtype\": \"number\",\n        \"std\": 0,\n        \"min\": 0,\n        \"max\": 1,\n        \"num_unique_values\": 2,\n        \"samples\": [\n          1,\n          0\n        ],\n        \"semantic_type\": \"\",\n        \"description\": \"\"\n      }\n    },\n    {\n      \"column\": \"Pclass\",\n      \"properties\": {\n        \"dtype\": \"number\",\n        \"std\": 0,\n        \"min\": 1,\n        \"max\": 3,\n        \"num_unique_values\": 3,\n        \"samples\": [\n          3,\n          1\n        ],\n        \"semantic_type\": \"\",\n        \"description\": \"\"\n      }\n    },\n    {\n      \"column\": \"Sex\",\n      \"properties\": {\n        \"dtype\": \"number\",\n        \"std\": 0,\n        \"min\": 0,\n        \"max\": 1,\n        \"num_unique_values\": 2,\n        \"samples\": [\n          0,\n          1\n        ],\n        \"semantic_type\": \"\",\n        \"description\": \"\"\n      }\n    },\n    {\n      \"column\": \"Age\",\n      \"properties\": {\n        \"dtype\": \"number\",\n        \"std\": 14.526497332334042,\n        \"min\": 0.42,\n        \"max\": 80.0,\n        \"num_unique_values\": 88,\n        \"samples\": [\n          0.75,\n          22.0\n        ],\n        \"semantic_type\": \"\",\n        \"description\": \"\"\n      }\n    },\n    {\n      \"column\": \"SibSp\",\n      \"properties\": {\n        \"dtype\": \"number\",\n        \"std\": 1,\n        \"min\": 0,\n        \"max\": 8,\n        \"num_unique_values\": 7,\n        \"samples\": [\n          1,\n          0\n        ],\n        \"semantic_type\": \"\",\n        \"description\": \"\"\n      }\n    },\n    {\n      \"column\": \"Parch\",\n      \"properties\": {\n        \"dtype\": \"number\",\n        \"std\": 0,\n        \"min\": 0,\n        \"max\": 6,\n        \"num_unique_values\": 7,\n        \"samples\": [\n          0,\n          1\n        ],\n        \"semantic_type\": \"\",\n        \"description\": \"\"\n      }\n    },\n    {\n      \"column\": \"Fare\",\n      \"properties\": {\n        \"dtype\": \"number\",\n        \"std\": 49.6934285971809,\n        \"min\": 0.0,\n        \"max\": 512.3292,\n        \"num_unique_values\": 248,\n        \"samples\": [\n          11.2417,\n          51.8625\n        ],\n        \"semantic_type\": \"\",\n        \"description\": \"\"\n      }\n    }\n  ]\n}"
            }
          },
          "metadata": {},
          "execution_count": 12
        }
      ]
    },
    {
      "cell_type": "code",
      "source": [
        "clean_data.info()"
      ],
      "metadata": {
        "colab": {
          "base_uri": "https://localhost:8080/"
        },
        "id": "e6gai42I4gBm",
        "outputId": "5c8b6c7d-9f3e-4400-e946-9419ade58b90"
      },
      "execution_count": null,
      "outputs": [
        {
          "output_type": "stream",
          "name": "stdout",
          "text": [
            "<class 'pandas.core.frame.DataFrame'>\n",
            "RangeIndex: 891 entries, 0 to 890\n",
            "Data columns (total 7 columns):\n",
            " #   Column    Non-Null Count  Dtype  \n",
            "---  ------    --------------  -----  \n",
            " 0   Survived  891 non-null    int64  \n",
            " 1   Pclass    891 non-null    int64  \n",
            " 2   Sex       891 non-null    int64  \n",
            " 3   Age       714 non-null    float64\n",
            " 4   SibSp     891 non-null    int64  \n",
            " 5   Parch     891 non-null    int64  \n",
            " 6   Fare      891 non-null    float64\n",
            "dtypes: float64(2), int64(5)\n",
            "memory usage: 48.9 KB\n"
          ]
        }
      ]
    },
    {
      "cell_type": "code",
      "source": [
        "clean_data = clean_data.fillna(clean_data['Age'].mean())"
      ],
      "metadata": {
        "id": "hzis0in64y3t"
      },
      "execution_count": null,
      "outputs": []
    },
    {
      "cell_type": "code",
      "source": [
        "clean_data.info()"
      ],
      "metadata": {
        "colab": {
          "base_uri": "https://localhost:8080/"
        },
        "id": "pItunp_a6np2",
        "outputId": "207f038d-6011-47b0-d651-b67c3be4fc9f"
      },
      "execution_count": null,
      "outputs": [
        {
          "output_type": "stream",
          "name": "stdout",
          "text": [
            "<class 'pandas.core.frame.DataFrame'>\n",
            "RangeIndex: 891 entries, 0 to 890\n",
            "Data columns (total 7 columns):\n",
            " #   Column    Non-Null Count  Dtype  \n",
            "---  ------    --------------  -----  \n",
            " 0   Survived  891 non-null    int64  \n",
            " 1   Pclass    891 non-null    int64  \n",
            " 2   Sex       891 non-null    int64  \n",
            " 3   Age       891 non-null    float64\n",
            " 4   SibSp     891 non-null    int64  \n",
            " 5   Parch     891 non-null    int64  \n",
            " 6   Fare      891 non-null    float64\n",
            "dtypes: float64(2), int64(5)\n",
            "memory usage: 48.9 KB\n"
          ]
        }
      ]
    },
    {
      "cell_type": "code",
      "source": [
        "input_cols = ['Pclass', 'Sex', 'Age', 'SibSp', 'Parch', 'Fare']\n",
        "output_cols = ['Survived']\n",
        "x = clean_data[input_cols]\n",
        "y = clean_data[output_cols]\n",
        "x.shape, y.shape"
      ],
      "metadata": {
        "colab": {
          "base_uri": "https://localhost:8080/"
        },
        "id": "oaZoUKej6vPU",
        "outputId": "f835c355-2e3c-4229-99e6-c56e9284e9e6"
      },
      "execution_count": null,
      "outputs": [
        {
          "output_type": "execute_result",
          "data": {
            "text/plain": [
              "((891, 6), (891, 1))"
            ]
          },
          "metadata": {},
          "execution_count": 18
        }
      ]
    },
    {
      "cell_type": "code",
      "source": [
        "from sklearn.tree import DecisionTreeClassifier\n",
        "from sklearn.model_selection import train_test_split"
      ],
      "metadata": {
        "id": "UjxIzxOV8TVI"
      },
      "execution_count": null,
      "outputs": []
    },
    {
      "cell_type": "code",
      "source": [
        "sk_tree = DecisionTreeClassifier(criterion='entropy', max_depth=5)"
      ],
      "metadata": {
        "id": "s637j_edC2xj"
      },
      "execution_count": null,
      "outputs": []
    },
    {
      "cell_type": "code",
      "source": [
        "x_train, x_test, y_train, y_test = train_test_split(\n",
        "...     x, y, test_size=0.33, random_state=42)"
      ],
      "metadata": {
        "id": "SsgZWtTFE_fk"
      },
      "execution_count": null,
      "outputs": []
    },
    {
      "cell_type": "code",
      "source": [
        "sk_tree.fit(x_train, y_train)"
      ],
      "metadata": {
        "colab": {
          "base_uri": "https://localhost:8080/",
          "height": 74
        },
        "id": "7eyqTcmcHBNq",
        "outputId": "c6f88955-a2cc-444c-aa1a-ca1513a2debf"
      },
      "execution_count": null,
      "outputs": [
        {
          "output_type": "execute_result",
          "data": {
            "text/plain": [
              "DecisionTreeClassifier(criterion='entropy', max_depth=5)"
            ],
            "text/html": [
              "<style>#sk-container-id-1 {color: black;background-color: white;}#sk-container-id-1 pre{padding: 0;}#sk-container-id-1 div.sk-toggleable {background-color: white;}#sk-container-id-1 label.sk-toggleable__label {cursor: pointer;display: block;width: 100%;margin-bottom: 0;padding: 0.3em;box-sizing: border-box;text-align: center;}#sk-container-id-1 label.sk-toggleable__label-arrow:before {content: \"▸\";float: left;margin-right: 0.25em;color: #696969;}#sk-container-id-1 label.sk-toggleable__label-arrow:hover:before {color: black;}#sk-container-id-1 div.sk-estimator:hover label.sk-toggleable__label-arrow:before {color: black;}#sk-container-id-1 div.sk-toggleable__content {max-height: 0;max-width: 0;overflow: hidden;text-align: left;background-color: #f0f8ff;}#sk-container-id-1 div.sk-toggleable__content pre {margin: 0.2em;color: black;border-radius: 0.25em;background-color: #f0f8ff;}#sk-container-id-1 input.sk-toggleable__control:checked~div.sk-toggleable__content {max-height: 200px;max-width: 100%;overflow: auto;}#sk-container-id-1 input.sk-toggleable__control:checked~label.sk-toggleable__label-arrow:before {content: \"▾\";}#sk-container-id-1 div.sk-estimator input.sk-toggleable__control:checked~label.sk-toggleable__label {background-color: #d4ebff;}#sk-container-id-1 div.sk-label input.sk-toggleable__control:checked~label.sk-toggleable__label {background-color: #d4ebff;}#sk-container-id-1 input.sk-hidden--visually {border: 0;clip: rect(1px 1px 1px 1px);clip: rect(1px, 1px, 1px, 1px);height: 1px;margin: -1px;overflow: hidden;padding: 0;position: absolute;width: 1px;}#sk-container-id-1 div.sk-estimator {font-family: monospace;background-color: #f0f8ff;border: 1px dotted black;border-radius: 0.25em;box-sizing: border-box;margin-bottom: 0.5em;}#sk-container-id-1 div.sk-estimator:hover {background-color: #d4ebff;}#sk-container-id-1 div.sk-parallel-item::after {content: \"\";width: 100%;border-bottom: 1px solid gray;flex-grow: 1;}#sk-container-id-1 div.sk-label:hover label.sk-toggleable__label {background-color: #d4ebff;}#sk-container-id-1 div.sk-serial::before {content: \"\";position: absolute;border-left: 1px solid gray;box-sizing: border-box;top: 0;bottom: 0;left: 50%;z-index: 0;}#sk-container-id-1 div.sk-serial {display: flex;flex-direction: column;align-items: center;background-color: white;padding-right: 0.2em;padding-left: 0.2em;position: relative;}#sk-container-id-1 div.sk-item {position: relative;z-index: 1;}#sk-container-id-1 div.sk-parallel {display: flex;align-items: stretch;justify-content: center;background-color: white;position: relative;}#sk-container-id-1 div.sk-item::before, #sk-container-id-1 div.sk-parallel-item::before {content: \"\";position: absolute;border-left: 1px solid gray;box-sizing: border-box;top: 0;bottom: 0;left: 50%;z-index: -1;}#sk-container-id-1 div.sk-parallel-item {display: flex;flex-direction: column;z-index: 1;position: relative;background-color: white;}#sk-container-id-1 div.sk-parallel-item:first-child::after {align-self: flex-end;width: 50%;}#sk-container-id-1 div.sk-parallel-item:last-child::after {align-self: flex-start;width: 50%;}#sk-container-id-1 div.sk-parallel-item:only-child::after {width: 0;}#sk-container-id-1 div.sk-dashed-wrapped {border: 1px dashed gray;margin: 0 0.4em 0.5em 0.4em;box-sizing: border-box;padding-bottom: 0.4em;background-color: white;}#sk-container-id-1 div.sk-label label {font-family: monospace;font-weight: bold;display: inline-block;line-height: 1.2em;}#sk-container-id-1 div.sk-label-container {text-align: center;}#sk-container-id-1 div.sk-container {/* jupyter's `normalize.less` sets `[hidden] { display: none; }` but bootstrap.min.css set `[hidden] { display: none !important; }` so we also need the `!important` here to be able to override the default hidden behavior on the sphinx rendered scikit-learn.org. See: https://github.com/scikit-learn/scikit-learn/issues/21755 */display: inline-block !important;position: relative;}#sk-container-id-1 div.sk-text-repr-fallback {display: none;}</style><div id=\"sk-container-id-1\" class=\"sk-top-container\"><div class=\"sk-text-repr-fallback\"><pre>DecisionTreeClassifier(criterion=&#x27;entropy&#x27;, max_depth=5)</pre><b>In a Jupyter environment, please rerun this cell to show the HTML representation or trust the notebook. <br />On GitHub, the HTML representation is unable to render, please try loading this page with nbviewer.org.</b></div><div class=\"sk-container\" hidden><div class=\"sk-item\"><div class=\"sk-estimator sk-toggleable\"><input class=\"sk-toggleable__control sk-hidden--visually\" id=\"sk-estimator-id-1\" type=\"checkbox\" checked><label for=\"sk-estimator-id-1\" class=\"sk-toggleable__label sk-toggleable__label-arrow\">DecisionTreeClassifier</label><div class=\"sk-toggleable__content\"><pre>DecisionTreeClassifier(criterion=&#x27;entropy&#x27;, max_depth=5)</pre></div></div></div></div></div>"
            ]
          },
          "metadata": {},
          "execution_count": 40
        }
      ]
    },
    {
      "cell_type": "code",
      "source": [
        "sk_tree.score(x_test, y_test)"
      ],
      "metadata": {
        "colab": {
          "base_uri": "https://localhost:8080/"
        },
        "id": "gD-RZ02BHSPU",
        "outputId": "44321a03-9a6c-49d5-fe7f-5fd8046a5fcb"
      },
      "execution_count": null,
      "outputs": [
        {
          "output_type": "execute_result",
          "data": {
            "text/plain": [
              "0.8067796610169492"
            ]
          },
          "metadata": {},
          "execution_count": 41
        }
      ]
    },
    {
      "cell_type": "code",
      "source": [
        "sk_tree.predict(x_test[:10])"
      ],
      "metadata": {
        "colab": {
          "base_uri": "https://localhost:8080/"
        },
        "id": "dEo5DCuVHe9o",
        "outputId": "9debc4b4-60c6-4bc1-e067-f89d383fef9d"
      },
      "execution_count": null,
      "outputs": [
        {
          "output_type": "execute_result",
          "data": {
            "text/plain": [
              "array([0, 0, 0, 1, 1, 0, 1, 0, 1, 1])"
            ]
          },
          "metadata": {},
          "execution_count": 42
        }
      ]
    },
    {
      "cell_type": "code",
      "source": [
        "y_test[:10]"
      ],
      "metadata": {
        "colab": {
          "base_uri": "https://localhost:8080/",
          "height": 363
        },
        "id": "SxvFl5KRH6Rk",
        "outputId": "71866afb-fa73-4595-8489-53e7d5205279"
      },
      "execution_count": null,
      "outputs": [
        {
          "output_type": "execute_result",
          "data": {
            "text/plain": [
              "     Survived\n",
              "709         1\n",
              "439         0\n",
              "840         0\n",
              "720         1\n",
              "39          1\n",
              "290         1\n",
              "300         1\n",
              "333         0\n",
              "208         1\n",
              "136         1"
            ],
            "text/html": [
              "\n",
              "  <div id=\"df-54d81cfb-ffe6-4685-9270-68ed0e99eb31\" class=\"colab-df-container\">\n",
              "    <div>\n",
              "<style scoped>\n",
              "    .dataframe tbody tr th:only-of-type {\n",
              "        vertical-align: middle;\n",
              "    }\n",
              "\n",
              "    .dataframe tbody tr th {\n",
              "        vertical-align: top;\n",
              "    }\n",
              "\n",
              "    .dataframe thead th {\n",
              "        text-align: right;\n",
              "    }\n",
              "</style>\n",
              "<table border=\"1\" class=\"dataframe\">\n",
              "  <thead>\n",
              "    <tr style=\"text-align: right;\">\n",
              "      <th></th>\n",
              "      <th>Survived</th>\n",
              "    </tr>\n",
              "  </thead>\n",
              "  <tbody>\n",
              "    <tr>\n",
              "      <th>709</th>\n",
              "      <td>1</td>\n",
              "    </tr>\n",
              "    <tr>\n",
              "      <th>439</th>\n",
              "      <td>0</td>\n",
              "    </tr>\n",
              "    <tr>\n",
              "      <th>840</th>\n",
              "      <td>0</td>\n",
              "    </tr>\n",
              "    <tr>\n",
              "      <th>720</th>\n",
              "      <td>1</td>\n",
              "    </tr>\n",
              "    <tr>\n",
              "      <th>39</th>\n",
              "      <td>1</td>\n",
              "    </tr>\n",
              "    <tr>\n",
              "      <th>290</th>\n",
              "      <td>1</td>\n",
              "    </tr>\n",
              "    <tr>\n",
              "      <th>300</th>\n",
              "      <td>1</td>\n",
              "    </tr>\n",
              "    <tr>\n",
              "      <th>333</th>\n",
              "      <td>0</td>\n",
              "    </tr>\n",
              "    <tr>\n",
              "      <th>208</th>\n",
              "      <td>1</td>\n",
              "    </tr>\n",
              "    <tr>\n",
              "      <th>136</th>\n",
              "      <td>1</td>\n",
              "    </tr>\n",
              "  </tbody>\n",
              "</table>\n",
              "</div>\n",
              "    <div class=\"colab-df-buttons\">\n",
              "\n",
              "  <div class=\"colab-df-container\">\n",
              "    <button class=\"colab-df-convert\" onclick=\"convertToInteractive('df-54d81cfb-ffe6-4685-9270-68ed0e99eb31')\"\n",
              "            title=\"Convert this dataframe to an interactive table.\"\n",
              "            style=\"display:none;\">\n",
              "\n",
              "  <svg xmlns=\"http://www.w3.org/2000/svg\" height=\"24px\" viewBox=\"0 -960 960 960\">\n",
              "    <path d=\"M120-120v-720h720v720H120Zm60-500h600v-160H180v160Zm220 220h160v-160H400v160Zm0 220h160v-160H400v160ZM180-400h160v-160H180v160Zm440 0h160v-160H620v160ZM180-180h160v-160H180v160Zm440 0h160v-160H620v160Z\"/>\n",
              "  </svg>\n",
              "    </button>\n",
              "\n",
              "  <style>\n",
              "    .colab-df-container {\n",
              "      display:flex;\n",
              "      gap: 12px;\n",
              "    }\n",
              "\n",
              "    .colab-df-convert {\n",
              "      background-color: #E8F0FE;\n",
              "      border: none;\n",
              "      border-radius: 50%;\n",
              "      cursor: pointer;\n",
              "      display: none;\n",
              "      fill: #1967D2;\n",
              "      height: 32px;\n",
              "      padding: 0 0 0 0;\n",
              "      width: 32px;\n",
              "    }\n",
              "\n",
              "    .colab-df-convert:hover {\n",
              "      background-color: #E2EBFA;\n",
              "      box-shadow: 0px 1px 2px rgba(60, 64, 67, 0.3), 0px 1px 3px 1px rgba(60, 64, 67, 0.15);\n",
              "      fill: #174EA6;\n",
              "    }\n",
              "\n",
              "    .colab-df-buttons div {\n",
              "      margin-bottom: 4px;\n",
              "    }\n",
              "\n",
              "    [theme=dark] .colab-df-convert {\n",
              "      background-color: #3B4455;\n",
              "      fill: #D2E3FC;\n",
              "    }\n",
              "\n",
              "    [theme=dark] .colab-df-convert:hover {\n",
              "      background-color: #434B5C;\n",
              "      box-shadow: 0px 1px 3px 1px rgba(0, 0, 0, 0.15);\n",
              "      filter: drop-shadow(0px 1px 2px rgba(0, 0, 0, 0.3));\n",
              "      fill: #FFFFFF;\n",
              "    }\n",
              "  </style>\n",
              "\n",
              "    <script>\n",
              "      const buttonEl =\n",
              "        document.querySelector('#df-54d81cfb-ffe6-4685-9270-68ed0e99eb31 button.colab-df-convert');\n",
              "      buttonEl.style.display =\n",
              "        google.colab.kernel.accessAllowed ? 'block' : 'none';\n",
              "\n",
              "      async function convertToInteractive(key) {\n",
              "        const element = document.querySelector('#df-54d81cfb-ffe6-4685-9270-68ed0e99eb31');\n",
              "        const dataTable =\n",
              "          await google.colab.kernel.invokeFunction('convertToInteractive',\n",
              "                                                    [key], {});\n",
              "        if (!dataTable) return;\n",
              "\n",
              "        const docLinkHtml = 'Like what you see? Visit the ' +\n",
              "          '<a target=\"_blank\" href=https://colab.research.google.com/notebooks/data_table.ipynb>data table notebook</a>'\n",
              "          + ' to learn more about interactive tables.';\n",
              "        element.innerHTML = '';\n",
              "        dataTable['output_type'] = 'display_data';\n",
              "        await google.colab.output.renderOutput(dataTable, element);\n",
              "        const docLink = document.createElement('div');\n",
              "        docLink.innerHTML = docLinkHtml;\n",
              "        element.appendChild(docLink);\n",
              "      }\n",
              "    </script>\n",
              "  </div>\n",
              "\n",
              "\n",
              "<div id=\"df-ee15e347-3f7c-42b2-93cf-9894873df17c\">\n",
              "  <button class=\"colab-df-quickchart\" onclick=\"quickchart('df-ee15e347-3f7c-42b2-93cf-9894873df17c')\"\n",
              "            title=\"Suggest charts\"\n",
              "            style=\"display:none;\">\n",
              "\n",
              "<svg xmlns=\"http://www.w3.org/2000/svg\" height=\"24px\"viewBox=\"0 0 24 24\"\n",
              "     width=\"24px\">\n",
              "    <g>\n",
              "        <path d=\"M19 3H5c-1.1 0-2 .9-2 2v14c0 1.1.9 2 2 2h14c1.1 0 2-.9 2-2V5c0-1.1-.9-2-2-2zM9 17H7v-7h2v7zm4 0h-2V7h2v10zm4 0h-2v-4h2v4z\"/>\n",
              "    </g>\n",
              "</svg>\n",
              "  </button>\n",
              "\n",
              "<style>\n",
              "  .colab-df-quickchart {\n",
              "      --bg-color: #E8F0FE;\n",
              "      --fill-color: #1967D2;\n",
              "      --hover-bg-color: #E2EBFA;\n",
              "      --hover-fill-color: #174EA6;\n",
              "      --disabled-fill-color: #AAA;\n",
              "      --disabled-bg-color: #DDD;\n",
              "  }\n",
              "\n",
              "  [theme=dark] .colab-df-quickchart {\n",
              "      --bg-color: #3B4455;\n",
              "      --fill-color: #D2E3FC;\n",
              "      --hover-bg-color: #434B5C;\n",
              "      --hover-fill-color: #FFFFFF;\n",
              "      --disabled-bg-color: #3B4455;\n",
              "      --disabled-fill-color: #666;\n",
              "  }\n",
              "\n",
              "  .colab-df-quickchart {\n",
              "    background-color: var(--bg-color);\n",
              "    border: none;\n",
              "    border-radius: 50%;\n",
              "    cursor: pointer;\n",
              "    display: none;\n",
              "    fill: var(--fill-color);\n",
              "    height: 32px;\n",
              "    padding: 0;\n",
              "    width: 32px;\n",
              "  }\n",
              "\n",
              "  .colab-df-quickchart:hover {\n",
              "    background-color: var(--hover-bg-color);\n",
              "    box-shadow: 0 1px 2px rgba(60, 64, 67, 0.3), 0 1px 3px 1px rgba(60, 64, 67, 0.15);\n",
              "    fill: var(--button-hover-fill-color);\n",
              "  }\n",
              "\n",
              "  .colab-df-quickchart-complete:disabled,\n",
              "  .colab-df-quickchart-complete:disabled:hover {\n",
              "    background-color: var(--disabled-bg-color);\n",
              "    fill: var(--disabled-fill-color);\n",
              "    box-shadow: none;\n",
              "  }\n",
              "\n",
              "  .colab-df-spinner {\n",
              "    border: 2px solid var(--fill-color);\n",
              "    border-color: transparent;\n",
              "    border-bottom-color: var(--fill-color);\n",
              "    animation:\n",
              "      spin 1s steps(1) infinite;\n",
              "  }\n",
              "\n",
              "  @keyframes spin {\n",
              "    0% {\n",
              "      border-color: transparent;\n",
              "      border-bottom-color: var(--fill-color);\n",
              "      border-left-color: var(--fill-color);\n",
              "    }\n",
              "    20% {\n",
              "      border-color: transparent;\n",
              "      border-left-color: var(--fill-color);\n",
              "      border-top-color: var(--fill-color);\n",
              "    }\n",
              "    30% {\n",
              "      border-color: transparent;\n",
              "      border-left-color: var(--fill-color);\n",
              "      border-top-color: var(--fill-color);\n",
              "      border-right-color: var(--fill-color);\n",
              "    }\n",
              "    40% {\n",
              "      border-color: transparent;\n",
              "      border-right-color: var(--fill-color);\n",
              "      border-top-color: var(--fill-color);\n",
              "    }\n",
              "    60% {\n",
              "      border-color: transparent;\n",
              "      border-right-color: var(--fill-color);\n",
              "    }\n",
              "    80% {\n",
              "      border-color: transparent;\n",
              "      border-right-color: var(--fill-color);\n",
              "      border-bottom-color: var(--fill-color);\n",
              "    }\n",
              "    90% {\n",
              "      border-color: transparent;\n",
              "      border-bottom-color: var(--fill-color);\n",
              "    }\n",
              "  }\n",
              "</style>\n",
              "\n",
              "  <script>\n",
              "    async function quickchart(key) {\n",
              "      const quickchartButtonEl =\n",
              "        document.querySelector('#' + key + ' button');\n",
              "      quickchartButtonEl.disabled = true;  // To prevent multiple clicks.\n",
              "      quickchartButtonEl.classList.add('colab-df-spinner');\n",
              "      try {\n",
              "        const charts = await google.colab.kernel.invokeFunction(\n",
              "            'suggestCharts', [key], {});\n",
              "      } catch (error) {\n",
              "        console.error('Error during call to suggestCharts:', error);\n",
              "      }\n",
              "      quickchartButtonEl.classList.remove('colab-df-spinner');\n",
              "      quickchartButtonEl.classList.add('colab-df-quickchart-complete');\n",
              "    }\n",
              "    (() => {\n",
              "      let quickchartButtonEl =\n",
              "        document.querySelector('#df-ee15e347-3f7c-42b2-93cf-9894873df17c button');\n",
              "      quickchartButtonEl.style.display =\n",
              "        google.colab.kernel.accessAllowed ? 'block' : 'none';\n",
              "    })();\n",
              "  </script>\n",
              "</div>\n",
              "\n",
              "    </div>\n",
              "  </div>\n"
            ],
            "application/vnd.google.colaboratory.intrinsic+json": {
              "type": "dataframe",
              "summary": "{\n  \"name\": \"y_test[:10]\",\n  \"rows\": 10,\n  \"fields\": [\n    {\n      \"column\": \"Survived\",\n      \"properties\": {\n        \"dtype\": \"number\",\n        \"std\": 0,\n        \"min\": 0,\n        \"max\": 1,\n        \"num_unique_values\": 2,\n        \"samples\": [\n          0,\n          1\n        ],\n        \"semantic_type\": \"\",\n        \"description\": \"\"\n      }\n    }\n  ]\n}"
            }
          },
          "metadata": {},
          "execution_count": 43
        }
      ]
    },
    {
      "cell_type": "code",
      "source": [
        "from sklearn.ensemble import RandomForestClassifier"
      ],
      "metadata": {
        "id": "CC-eVOLeH_Xl"
      },
      "execution_count": null,
      "outputs": []
    },
    {
      "cell_type": "code",
      "source": [
        "data = RandomForestClassifier()"
      ],
      "metadata": {
        "id": "TjgqZXzMJuk-"
      },
      "execution_count": null,
      "outputs": []
    },
    {
      "cell_type": "code",
      "source": [
        "data.fit(x_train, y_train)"
      ],
      "metadata": {
        "colab": {
          "base_uri": "https://localhost:8080/",
          "height": 129
        },
        "id": "mlvj0AQAKBT6",
        "outputId": "830a179a-731a-4837-9e7c-90b02440e641"
      },
      "execution_count": null,
      "outputs": [
        {
          "output_type": "stream",
          "name": "stderr",
          "text": [
            "<ipython-input-46-4c8411cfbf9d>:1: DataConversionWarning: A column-vector y was passed when a 1d array was expected. Please change the shape of y to (n_samples,), for example using ravel().\n",
            "  data.fit(x_train, y_train)\n"
          ]
        },
        {
          "output_type": "execute_result",
          "data": {
            "text/plain": [
              "RandomForestClassifier()"
            ],
            "text/html": [
              "<style>#sk-container-id-2 {color: black;background-color: white;}#sk-container-id-2 pre{padding: 0;}#sk-container-id-2 div.sk-toggleable {background-color: white;}#sk-container-id-2 label.sk-toggleable__label {cursor: pointer;display: block;width: 100%;margin-bottom: 0;padding: 0.3em;box-sizing: border-box;text-align: center;}#sk-container-id-2 label.sk-toggleable__label-arrow:before {content: \"▸\";float: left;margin-right: 0.25em;color: #696969;}#sk-container-id-2 label.sk-toggleable__label-arrow:hover:before {color: black;}#sk-container-id-2 div.sk-estimator:hover label.sk-toggleable__label-arrow:before {color: black;}#sk-container-id-2 div.sk-toggleable__content {max-height: 0;max-width: 0;overflow: hidden;text-align: left;background-color: #f0f8ff;}#sk-container-id-2 div.sk-toggleable__content pre {margin: 0.2em;color: black;border-radius: 0.25em;background-color: #f0f8ff;}#sk-container-id-2 input.sk-toggleable__control:checked~div.sk-toggleable__content {max-height: 200px;max-width: 100%;overflow: auto;}#sk-container-id-2 input.sk-toggleable__control:checked~label.sk-toggleable__label-arrow:before {content: \"▾\";}#sk-container-id-2 div.sk-estimator input.sk-toggleable__control:checked~label.sk-toggleable__label {background-color: #d4ebff;}#sk-container-id-2 div.sk-label input.sk-toggleable__control:checked~label.sk-toggleable__label {background-color: #d4ebff;}#sk-container-id-2 input.sk-hidden--visually {border: 0;clip: rect(1px 1px 1px 1px);clip: rect(1px, 1px, 1px, 1px);height: 1px;margin: -1px;overflow: hidden;padding: 0;position: absolute;width: 1px;}#sk-container-id-2 div.sk-estimator {font-family: monospace;background-color: #f0f8ff;border: 1px dotted black;border-radius: 0.25em;box-sizing: border-box;margin-bottom: 0.5em;}#sk-container-id-2 div.sk-estimator:hover {background-color: #d4ebff;}#sk-container-id-2 div.sk-parallel-item::after {content: \"\";width: 100%;border-bottom: 1px solid gray;flex-grow: 1;}#sk-container-id-2 div.sk-label:hover label.sk-toggleable__label {background-color: #d4ebff;}#sk-container-id-2 div.sk-serial::before {content: \"\";position: absolute;border-left: 1px solid gray;box-sizing: border-box;top: 0;bottom: 0;left: 50%;z-index: 0;}#sk-container-id-2 div.sk-serial {display: flex;flex-direction: column;align-items: center;background-color: white;padding-right: 0.2em;padding-left: 0.2em;position: relative;}#sk-container-id-2 div.sk-item {position: relative;z-index: 1;}#sk-container-id-2 div.sk-parallel {display: flex;align-items: stretch;justify-content: center;background-color: white;position: relative;}#sk-container-id-2 div.sk-item::before, #sk-container-id-2 div.sk-parallel-item::before {content: \"\";position: absolute;border-left: 1px solid gray;box-sizing: border-box;top: 0;bottom: 0;left: 50%;z-index: -1;}#sk-container-id-2 div.sk-parallel-item {display: flex;flex-direction: column;z-index: 1;position: relative;background-color: white;}#sk-container-id-2 div.sk-parallel-item:first-child::after {align-self: flex-end;width: 50%;}#sk-container-id-2 div.sk-parallel-item:last-child::after {align-self: flex-start;width: 50%;}#sk-container-id-2 div.sk-parallel-item:only-child::after {width: 0;}#sk-container-id-2 div.sk-dashed-wrapped {border: 1px dashed gray;margin: 0 0.4em 0.5em 0.4em;box-sizing: border-box;padding-bottom: 0.4em;background-color: white;}#sk-container-id-2 div.sk-label label {font-family: monospace;font-weight: bold;display: inline-block;line-height: 1.2em;}#sk-container-id-2 div.sk-label-container {text-align: center;}#sk-container-id-2 div.sk-container {/* jupyter's `normalize.less` sets `[hidden] { display: none; }` but bootstrap.min.css set `[hidden] { display: none !important; }` so we also need the `!important` here to be able to override the default hidden behavior on the sphinx rendered scikit-learn.org. See: https://github.com/scikit-learn/scikit-learn/issues/21755 */display: inline-block !important;position: relative;}#sk-container-id-2 div.sk-text-repr-fallback {display: none;}</style><div id=\"sk-container-id-2\" class=\"sk-top-container\"><div class=\"sk-text-repr-fallback\"><pre>RandomForestClassifier()</pre><b>In a Jupyter environment, please rerun this cell to show the HTML representation or trust the notebook. <br />On GitHub, the HTML representation is unable to render, please try loading this page with nbviewer.org.</b></div><div class=\"sk-container\" hidden><div class=\"sk-item\"><div class=\"sk-estimator sk-toggleable\"><input class=\"sk-toggleable__control sk-hidden--visually\" id=\"sk-estimator-id-2\" type=\"checkbox\" checked><label for=\"sk-estimator-id-2\" class=\"sk-toggleable__label sk-toggleable__label-arrow\">RandomForestClassifier</label><div class=\"sk-toggleable__content\"><pre>RandomForestClassifier()</pre></div></div></div></div></div>"
            ]
          },
          "metadata": {},
          "execution_count": 46
        }
      ]
    },
    {
      "cell_type": "code",
      "source": [
        "y_pred=data.predict(x_test)"
      ],
      "metadata": {
        "id": "Mv9bJr3IKKNU"
      },
      "execution_count": null,
      "outputs": []
    },
    {
      "cell_type": "code",
      "source": [
        "sk_tree.score(x_test, y_pred)\n",
        "\n"
      ],
      "metadata": {
        "colab": {
          "base_uri": "https://localhost:8080/"
        },
        "id": "91nKro6SKUbh",
        "outputId": "174d1335-c4db-44ff-b040-193b5a356367"
      },
      "execution_count": null,
      "outputs": [
        {
          "output_type": "execute_result",
          "data": {
            "text/plain": [
              "0.8542372881355932"
            ]
          },
          "metadata": {},
          "execution_count": 56
        }
      ]
    },
    {
      "cell_type": "code",
      "source": [
        "from sklearn.metrics import accuracy_score,confusion_matrix"
      ],
      "metadata": {
        "id": "_VvuAiTOMx2c"
      },
      "execution_count": null,
      "outputs": []
    },
    {
      "cell_type": "code",
      "source": [
        "import matplotlib.pyplot as plt\n"
      ],
      "metadata": {
        "id": "_vyy85cUMzOz"
      },
      "execution_count": null,
      "outputs": []
    },
    {
      "cell_type": "code",
      "source": [
        "import seaborn as sns"
      ],
      "metadata": {
        "id": "RiAq-4fwNDis"
      },
      "execution_count": null,
      "outputs": []
    },
    {
      "cell_type": "code",
      "source": [
        "class_name=['input_cols', 'output_cols']"
      ],
      "metadata": {
        "id": "LcAJPTV7PxB3"
      },
      "execution_count": null,
      "outputs": []
    },
    {
      "cell_type": "code",
      "source": [
        "rai=confusion_matrix(y_test, y_pred)"
      ],
      "metadata": {
        "id": "GUFk0jmYQlfE"
      },
      "execution_count": null,
      "outputs": []
    },
    {
      "cell_type": "code",
      "source": [
        "plt.figure(figsize=(3,3))"
      ],
      "metadata": {
        "colab": {
          "base_uri": "https://localhost:8080/",
          "height": 52
        },
        "id": "6yOGy2N-Qz9x",
        "outputId": "264d5602-3bf2-49fb-8991-d2f142edee56"
      },
      "execution_count": null,
      "outputs": [
        {
          "output_type": "execute_result",
          "data": {
            "text/plain": [
              "<Figure size 300x300 with 0 Axes>"
            ]
          },
          "metadata": {},
          "execution_count": 76
        },
        {
          "output_type": "display_data",
          "data": {
            "text/plain": [
              "<Figure size 300x300 with 0 Axes>"
            ]
          },
          "metadata": {}
        }
      ]
    },
    {
      "cell_type": "code",
      "source": [
        "sns.heatmap(rai,annot=True,fmt='d',cmap='Blues',cbar=False,xticklabels=class_name,yticklabels=class_name)\n"
      ],
      "metadata": {
        "colab": {
          "base_uri": "https://localhost:8080/",
          "height": 447
        },
        "id": "h5TwkTIBSIqs",
        "outputId": "2e6b46fd-a6bf-4839-b0d1-1c4a06dd3032"
      },
      "execution_count": null,
      "outputs": [
        {
          "output_type": "execute_result",
          "data": {
            "text/plain": [
              "<Axes: >"
            ]
          },
          "metadata": {},
          "execution_count": 83
        },
        {
          "output_type": "display_data",
          "data": {
            "text/plain": [
              "<Figure size 640x480 with 1 Axes>"
            ],
            "image/png": "[encoded data removed]"
          },
          "metadata": {}
        }
      ]
    },
    {
      "cell_type": "code",
      "source": [
        "plt.figure(figsize=(20,10))"
      ],
      "metadata": {
        "colab": {
          "base_uri": "https://localhost:8080/",
          "height": 52
        },
        "id": "2m3vijIoSWXW",
        "outputId": "8c2d29bf-2550-4c35-993c-6f0191de3d46"
      },
      "execution_count": null,
      "outputs": [
        {
          "output_type": "execute_result",
          "data": {
            "text/plain": [
              "<Figure size 2000x1000 with 0 Axes>"
            ]
          },
          "metadata": {},
          "execution_count": 84
        },
        {
          "output_type": "display_data",
          "data": {
            "text/plain": [
              "<Figure size 2000x1000 with 0 Axes>"
            ]
          },
          "metadata": {}
        }
      ]
    },
    {
      "cell_type": "code",
      "source": [
        "from sklearn import tree"
      ],
      "metadata": {
        "id": "j8wRbAbFTtzP"
      },
      "execution_count": null,
      "outputs": []
    },
    {
      "cell_type": "code",
      "source": [
        "class_name=['input_cols', 'output_cols']"
      ],
      "metadata": {
        "id": "VH6FXcbNTzki"
      },
      "execution_count": null,
      "outputs": []
    },
    {
      "cell_type": "code",
      "source": [
        "tree.plot_tree(data.estimators_[67],feature_names=x.columns,class_names=class_name,filled=True)"
      ],
      "metadata": {
        "colab": {
          "base_uri": "https://localhost:8080/",
          "height": 1000
        },
        "id": "LMbTQKsTT-Gd",
        "outputId": "d268492a-2b94-4397-aef7-c1958ee1b129"
      },
      "execution_count": null,
      "outputs": [
        {
          "output_type": "execute_result",
          "data": {
            "text/plain": [
              "[Text(0.4132223113964687, 0.9722222222222222, 'Pclass <= 2.5\\ngini = 0.453\\nsamples = 374\\nvalue = [389, 207]\\nclass = input_cols'),\n",
              " Text(0.09670947030497593, 0.9166666666666666, 'Sex <= 0.5\\ngini = 0.5\\nsamples = 162\\nvalue = [128, 128]\\nclass = input_cols'),\n",
              " Text(0.038523274478330656, 0.8611111111111112, 'Age <= 26.5\\ngini = 0.039\\nsamples = 67\\nvalue = [2, 99]\\nclass = output_cols'),\n",
              " Text(0.025682182985553772, 0.8055555555555556, 'SibSp <= 0.5\\ngini = 0.133\\nsamples = 21\\nvalue = [2, 26]\\nclass = output_cols'),\n",
              " Text(0.012841091492776886, 0.75, 'gini = 0.0\\nsamples = 11\\nvalue = [0, 16]\\nclass = output_cols'),\n",
              " Text(0.038523274478330656, 0.75, 'Age <= 24.5\\ngini = 0.278\\nsamples = 10\\nvalue = [2, 10]\\nclass = output_cols'),\n",
              " Text(0.025682182985553772, 0.6944444444444444, 'gini = 0.0\\nsamples = 9\\nvalue = [0, 10]\\nclass = output_cols'),\n",
              " Text(0.051364365971107544, 0.6944444444444444, 'gini = 0.0\\nsamples = 1\\nvalue = [2, 0]\\nclass = input_cols'),\n",
              " Text(0.051364365971107544, 0.8055555555555556, 'gini = 0.0\\nsamples = 46\\nvalue = [0, 73]\\nclass = output_cols'),\n",
              " Text(0.1548956661316212, 0.8611111111111112, 'Age <= 17.5\\ngini = 0.304\\nsamples = 95\\nvalue = [126, 29]\\nclass = input_cols'),\n",
              " Text(0.07704654895666131, 0.8055555555555556, 'Age <= 8.5\\ngini = 0.346\\nsamples = 5\\nvalue = [2, 7]\\nclass = output_cols'),\n",
              " Text(0.06420545746388442, 0.75, 'gini = 0.0\\nsamples = 3\\nvalue = [0, 4]\\nclass = output_cols'),\n",
              " Text(0.0898876404494382, 0.75, 'Age <= 16.5\\ngini = 0.48\\nsamples = 2\\nvalue = [2, 3]\\nclass = output_cols'),\n",
              " Text(0.07704654895666131, 0.6944444444444444, 'gini = 0.0\\nsamples = 1\\nvalue = [2, 0]\\nclass = input_cols'),\n",
              " Text(0.10272873194221509, 0.6944444444444444, 'gini = 0.0\\nsamples = 1\\nvalue = [0, 3]\\nclass = output_cols'),\n",
              " Text(0.23274478330658105, 0.8055555555555556, 'Parch <= 0.5\\ngini = 0.256\\nsamples = 90\\nvalue = [124, 22]\\nclass = input_cols'),\n",
              " Text(0.21990369181380418, 0.75, 'Fare <= 26.144\\ngini = 0.278\\nsamples = 82\\nvalue = [110, 22]\\nclass = input_cols'),\n",
              " Text(0.12841091492776885, 0.6944444444444444, 'Age <= 20.0\\ngini = 0.138\\nsamples = 40\\nvalue = [62, 5]\\nclass = input_cols'),\n",
              " Text(0.10272873194221509, 0.6388888888888888, 'Fare <= 11.0\\ngini = 0.444\\nsamples = 3\\nvalue = [2, 1]\\nclass = input_cols'),\n",
              " Text(0.0898876404494382, 0.5833333333333334, 'gini = 0.5\\nsamples = 2\\nvalue = [1, 1]\\nclass = input_cols'),\n",
              " Text(0.11556982343499198, 0.5833333333333334, 'gini = 0.0\\nsamples = 1\\nvalue = [1, 0]\\nclass = input_cols'),\n",
              " Text(0.15409309791332262, 0.6388888888888888, 'Fare <= 13.931\\ngini = 0.117\\nsamples = 37\\nvalue = [60, 4]\\nclass = input_cols'),\n",
              " Text(0.14125200642054575, 0.5833333333333334, 'Fare <= 13.681\\ngini = 0.172\\nsamples = 26\\nvalue = [38, 4]\\nclass = input_cols'),\n",
              " Text(0.12841091492776885, 0.5277777777777778, 'Age <= 32.0\\ngini = 0.095\\nsamples = 25\\nvalue = [38, 2]\\nclass = input_cols'),\n",
              " Text(0.11556982343499198, 0.4722222222222222, 'gini = 0.0\\nsamples = 15\\nvalue = [23, 0]\\nclass = input_cols'),\n",
              " Text(0.14125200642054575, 0.4722222222222222, 'Fare <= 12.762\\ngini = 0.208\\nsamples = 10\\nvalue = [15, 2]\\nclass = input_cols'),\n",
              " Text(0.12841091492776885, 0.4166666666666667, 'gini = 0.0\\nsamples = 4\\nvalue = [7, 0]\\nclass = input_cols'),\n",
              " Text(0.15409309791332262, 0.4166666666666667, 'Fare <= 13.25\\ngini = 0.32\\nsamples = 6\\nvalue = [8, 2]\\nclass = input_cols'),\n",
              " Text(0.14125200642054575, 0.3611111111111111, 'Age <= 38.0\\ngini = 0.48\\nsamples = 4\\nvalue = [3, 2]\\nclass = input_cols'),\n",
              " Text(0.12841091492776885, 0.3055555555555556, 'gini = 0.0\\nsamples = 1\\nvalue = [0, 2]\\nclass = output_cols'),\n",
              " Text(0.15409309791332262, 0.3055555555555556, 'gini = 0.0\\nsamples = 3\\nvalue = [3, 0]\\nclass = input_cols'),\n",
              " Text(0.16693418940609953, 0.3611111111111111, 'gini = 0.0\\nsamples = 2\\nvalue = [5, 0]\\nclass = input_cols'),\n",
              " Text(0.15409309791332262, 0.5277777777777778, 'gini = 0.0\\nsamples = 1\\nvalue = [0, 2]\\nclass = output_cols'),\n",
              " Text(0.16693418940609953, 0.5833333333333334, 'gini = 0.0\\nsamples = 11\\nvalue = [22, 0]\\nclass = input_cols'),\n",
              " Text(0.3113964686998395, 0.6944444444444444, 'Fare <= 26.419\\ngini = 0.386\\nsamples = 42\\nvalue = [48, 17]\\nclass = input_cols'),\n",
              " Text(0.2985553772070626, 0.6388888888888888, 'gini = 0.0\\nsamples = 2\\nvalue = [0, 3]\\nclass = output_cols'),\n",
              " Text(0.32423756019261635, 0.6388888888888888, 'Fare <= 86.29\\ngini = 0.35\\nsamples = 40\\nvalue = [48, 14]\\nclass = input_cols'),\n",
              " Text(0.27608346709470305, 0.5833333333333334, 'Fare <= 30.75\\ngini = 0.311\\nsamples = 35\\nvalue = [46, 11]\\nclass = input_cols'),\n",
              " Text(0.24398073836276082, 0.5277777777777778, 'SibSp <= 0.5\\ngini = 0.434\\nsamples = 12\\nvalue = [15, 7]\\nclass = input_cols'),\n",
              " Text(0.23113964686998395, 0.4722222222222222, 'Fare <= 30.25\\ngini = 0.444\\nsamples = 11\\nvalue = [14, 7]\\nclass = input_cols'),\n",
              " Text(0.20545746388443017, 0.4166666666666667, 'Fare <= 27.135\\ngini = 0.32\\nsamples = 8\\nvalue = [12, 3]\\nclass = input_cols'),\n",
              " Text(0.1926163723916533, 0.3611111111111111, 'Age <= 38.85\\ngini = 0.397\\nsamples = 4\\nvalue = [8, 3]\\nclass = input_cols'),\n",
              " Text(0.1797752808988764, 0.3055555555555556, 'gini = 0.0\\nsamples = 1\\nvalue = [5, 0]\\nclass = input_cols'),\n",
              " Text(0.20545746388443017, 0.3055555555555556, 'Age <= 56.5\\ngini = 0.5\\nsamples = 3\\nvalue = [3, 3]\\nclass = input_cols'),\n",
              " Text(0.1926163723916533, 0.25, 'gini = 0.0\\nsamples = 2\\nvalue = [0, 3]\\nclass = output_cols'),\n",
              " Text(0.21829855537720708, 0.25, 'gini = 0.0\\nsamples = 1\\nvalue = [3, 0]\\nclass = input_cols'),\n",
              " Text(0.21829855537720708, 0.3611111111111111, 'gini = 0.0\\nsamples = 4\\nvalue = [4, 0]\\nclass = input_cols'),\n",
              " Text(0.2568218298555377, 0.4166666666666667, 'Age <= 43.5\\ngini = 0.444\\nsamples = 3\\nvalue = [2, 4]\\nclass = output_cols'),\n",
              " Text(0.24398073836276082, 0.3611111111111111, 'gini = 0.0\\nsamples = 2\\nvalue = [0, 4]\\nclass = output_cols'),\n",
              " Text(0.2696629213483146, 0.3611111111111111, 'gini = 0.0\\nsamples = 1\\nvalue = [2, 0]\\nclass = input_cols'),\n",
              " Text(0.2568218298555377, 0.4722222222222222, 'gini = 0.0\\nsamples = 1\\nvalue = [1, 0]\\nclass = input_cols'),\n",
              " Text(0.30818619582664525, 0.5277777777777778, 'Pclass <= 1.5\\ngini = 0.202\\nsamples = 23\\nvalue = [31, 4]\\nclass = input_cols'),\n",
              " Text(0.2953451043338684, 0.4722222222222222, 'Age <= 27.5\\ngini = 0.231\\nsamples = 20\\nvalue = [26, 4]\\nclass = input_cols'),\n",
              " Text(0.2825040128410915, 0.4166666666666667, 'gini = 0.0\\nsamples = 2\\nvalue = [0, 3]\\nclass = output_cols'),\n",
              " Text(0.30818619582664525, 0.4166666666666667, 'Age <= 33.5\\ngini = 0.071\\nsamples = 18\\nvalue = [26, 1]\\nclass = input_cols'),\n",
              " Text(0.2953451043338684, 0.3611111111111111, 'SibSp <= 0.5\\ngini = 0.165\\nsamples = 8\\nvalue = [10, 1]\\nclass = input_cols'),\n",
              " Text(0.2825040128410915, 0.3055555555555556, 'gini = 0.0\\nsamples = 5\\nvalue = [7, 0]\\nclass = input_cols'),\n",
              " Text(0.30818619582664525, 0.3055555555555556, 'Fare <= 69.585\\ngini = 0.375\\nsamples = 3\\nvalue = [3, 1]\\nclass = input_cols'),\n",
              " Text(0.2953451043338684, 0.25, 'Fare <= 54.5\\ngini = 0.5\\nsamples = 2\\nvalue = [1, 1]\\nclass = input_cols'),\n",
              " Text(0.2825040128410915, 0.19444444444444445, 'gini = 0.0\\nsamples = 1\\nvalue = [1, 0]\\nclass = input_cols'),\n",
              " Text(0.30818619582664525, 0.19444444444444445, 'gini = 0.0\\nsamples = 1\\nvalue = [0, 1]\\nclass = output_cols'),\n",
              " Text(0.32102728731942215, 0.25, 'gini = 0.0\\nsamples = 1\\nvalue = [2, 0]\\nclass = input_cols'),\n",
              " Text(0.32102728731942215, 0.3611111111111111, 'gini = 0.0\\nsamples = 10\\nvalue = [16, 0]\\nclass = input_cols'),\n",
              " Text(0.32102728731942215, 0.4722222222222222, 'gini = 0.0\\nsamples = 3\\nvalue = [5, 0]\\nclass = input_cols'),\n",
              " Text(0.3723916532905297, 0.5833333333333334, 'SibSp <= 1.5\\ngini = 0.48\\nsamples = 5\\nvalue = [2, 3]\\nclass = output_cols'),\n",
              " Text(0.3595505617977528, 0.5277777777777778, 'SibSp <= 0.5\\ngini = 0.375\\nsamples = 4\\nvalue = [1, 3]\\nclass = output_cols'),\n",
              " Text(0.3467094703049759, 0.4722222222222222, 'Fare <= 369.927\\ngini = 0.5\\nsamples = 2\\nvalue = [1, 1]\\nclass = input_cols'),\n",
              " Text(0.33386837881219905, 0.4166666666666667, 'gini = 0.0\\nsamples = 1\\nvalue = [1, 0]\\nclass = input_cols'),\n",
              " Text(0.3595505617977528, 0.4166666666666667, 'gini = 0.0\\nsamples = 1\\nvalue = [0, 1]\\nclass = output_cols'),\n",
              " Text(0.3723916532905297, 0.4722222222222222, 'gini = 0.0\\nsamples = 2\\nvalue = [0, 2]\\nclass = output_cols'),\n",
              " Text(0.3852327447833066, 0.5277777777777778, 'gini = 0.0\\nsamples = 1\\nvalue = [1, 0]\\nclass = input_cols'),\n",
              " Text(0.24558587479935795, 0.75, 'gini = 0.0\\nsamples = 8\\nvalue = [14, 0]\\nclass = input_cols'),\n",
              " Text(0.7297351524879615, 0.9166666666666666, 'Sex <= 0.5\\ngini = 0.357\\nsamples = 212\\nvalue = [261, 79]\\nclass = input_cols'),\n",
              " Text(0.5906902086677368, 0.8611111111111112, 'Parch <= 1.5\\ngini = 0.499\\nsamples = 60\\nvalue = [52, 47]\\nclass = input_cols'),\n",
              " Text(0.5521669341894061, 0.8055555555555556, 'Fare <= 7.744\\ngini = 0.476\\nsamples = 45\\nvalue = [27, 42]\\nclass = output_cols'),\n",
              " Text(0.5393258426966292, 0.75, 'gini = 0.0\\nsamples = 8\\nvalue = [0, 13]\\nclass = output_cols'),\n",
              " Text(0.565008025682183, 0.75, 'Age <= 36.5\\ngini = 0.499\\nsamples = 37\\nvalue = [27, 29]\\nclass = output_cols'),\n",
              " Text(0.5521669341894061, 0.6944444444444444, 'SibSp <= 2.5\\ngini = 0.487\\nsamples = 33\\nvalue = [21, 29]\\nclass = output_cols'),\n",
              " Text(0.5008025682182986, 0.6388888888888888, 'Fare <= 11.496\\ngini = 0.47\\nsamples = 30\\nvalue = [17, 28]\\nclass = output_cols'),\n",
              " Text(0.43659711075441415, 0.5833333333333334, 'Age <= 25.5\\ngini = 0.472\\nsamples = 16\\nvalue = [13, 8]\\nclass = input_cols'),\n",
              " Text(0.41091492776886035, 0.5277777777777778, 'Parch <= 0.5\\ngini = 0.298\\nsamples = 7\\nvalue = [9, 2]\\nclass = input_cols'),\n",
              " Text(0.39807383627608345, 0.4722222222222222, 'SibSp <= 0.5\\ngini = 0.18\\nsamples = 6\\nvalue = [9, 1]\\nclass = input_cols'),\n",
              " Text(0.3852327447833066, 0.4166666666666667, 'Fare <= 7.977\\ngini = 0.198\\nsamples = 5\\nvalue = [8, 1]\\nclass = input_cols'),\n",
              " Text(0.3723916532905297, 0.3611111111111111, 'gini = 0.0\\nsamples = 3\\nvalue = [4, 0]\\nclass = input_cols'),\n",
              " Text(0.39807383627608345, 0.3611111111111111, 'Fare <= 9.273\\ngini = 0.32\\nsamples = 2\\nvalue = [4, 1]\\nclass = input_cols'),\n",
              " Text(0.3852327447833066, 0.3055555555555556, 'gini = 0.0\\nsamples = 1\\nvalue = [0, 1]\\nclass = output_cols'),\n",
              " Text(0.41091492776886035, 0.3055555555555556, 'gini = 0.0\\nsamples = 1\\nvalue = [4, 0]\\nclass = input_cols'),\n",
              " Text(0.41091492776886035, 0.4166666666666667, 'gini = 0.0\\nsamples = 1\\nvalue = [1, 0]\\nclass = input_cols'),\n",
              " Text(0.42375601926163725, 0.4722222222222222, 'gini = 0.0\\nsamples = 1\\nvalue = [0, 1]\\nclass = output_cols'),\n",
              " Text(0.4622792937399679, 0.5277777777777778, 'Age <= 27.5\\ngini = 0.48\\nsamples = 9\\nvalue = [4, 6]\\nclass = output_cols'),\n",
              " Text(0.449438202247191, 0.4722222222222222, 'gini = 0.0\\nsamples = 2\\nvalue = [0, 2]\\nclass = output_cols'),\n",
              " Text(0.4751203852327448, 0.4722222222222222, 'Parch <= 0.5\\ngini = 0.5\\nsamples = 7\\nvalue = [4, 4]\\nclass = input_cols'),\n",
              " Text(0.4622792937399679, 0.4166666666666667, 'Age <= 28.85\\ngini = 0.49\\nsamples = 6\\nvalue = [3, 4]\\nclass = output_cols'),\n",
              " Text(0.449438202247191, 0.3611111111111111, 'gini = 0.0\\nsamples = 1\\nvalue = [1, 0]\\nclass = input_cols'),\n",
              " Text(0.4751203852327448, 0.3611111111111111, 'Fare <= 8.217\\ngini = 0.444\\nsamples = 5\\nvalue = [2, 4]\\nclass = output_cols'),\n",
              " Text(0.4622792937399679, 0.3055555555555556, 'gini = 0.48\\nsamples = 4\\nvalue = [2, 3]\\nclass = output_cols'),\n",
              " Text(0.48796147672552165, 0.3055555555555556, 'gini = 0.0\\nsamples = 1\\nvalue = [0, 1]\\nclass = output_cols'),\n",
              " Text(0.48796147672552165, 0.4166666666666667, 'gini = 0.0\\nsamples = 1\\nvalue = [1, 0]\\nclass = input_cols'),\n",
              " Text(0.565008025682183, 0.5833333333333334, 'Age <= 29.85\\ngini = 0.278\\nsamples = 14\\nvalue = [4, 20]\\nclass = output_cols'),\n",
              " Text(0.5393258426966292, 0.5277777777777778, 'SibSp <= 0.5\\ngini = 0.172\\nsamples = 11\\nvalue = [2, 19]\\nclass = output_cols'),\n",
              " Text(0.5264847512038523, 0.4722222222222222, 'Parch <= 0.5\\ngini = 0.408\\nsamples = 3\\nvalue = [2, 5]\\nclass = output_cols'),\n",
              " Text(0.5136436597110754, 0.4166666666666667, 'gini = 0.0\\nsamples = 1\\nvalue = [2, 0]\\nclass = input_cols'),\n",
              " Text(0.5393258426966292, 0.4166666666666667, 'gini = 0.0\\nsamples = 2\\nvalue = [0, 5]\\nclass = output_cols'),\n",
              " Text(0.5521669341894061, 0.4722222222222222, 'gini = 0.0\\nsamples = 8\\nvalue = [0, 14]\\nclass = output_cols'),\n",
              " Text(0.5906902086677368, 0.5277777777777778, 'Age <= 33.5\\ngini = 0.444\\nsamples = 3\\nvalue = [2, 1]\\nclass = input_cols'),\n",
              " Text(0.5778491171749599, 0.4722222222222222, 'gini = 0.0\\nsamples = 2\\nvalue = [2, 0]\\nclass = input_cols'),\n",
              " Text(0.6035313001605136, 0.4722222222222222, 'gini = 0.0\\nsamples = 1\\nvalue = [0, 1]\\nclass = output_cols'),\n",
              " Text(0.6035313001605136, 0.6388888888888888, 'Age <= 31.35\\ngini = 0.32\\nsamples = 3\\nvalue = [4, 1]\\nclass = input_cols'),\n",
              " Text(0.5906902086677368, 0.5833333333333334, 'gini = 0.0\\nsamples = 2\\nvalue = [4, 0]\\nclass = input_cols'),\n",
              " Text(0.6163723916532905, 0.5833333333333334, 'gini = 0.0\\nsamples = 1\\nvalue = [0, 1]\\nclass = output_cols'),\n",
              " Text(0.5778491171749599, 0.6944444444444444, 'gini = 0.0\\nsamples = 4\\nvalue = [6, 0]\\nclass = input_cols'),\n",
              " Text(0.6292134831460674, 0.8055555555555556, 'SibSp <= 0.5\\ngini = 0.278\\nsamples = 15\\nvalue = [25, 5]\\nclass = input_cols'),\n",
              " Text(0.6163723916532905, 0.75, 'Age <= 29.35\\ngini = 0.494\\nsamples = 5\\nvalue = [4, 5]\\nclass = output_cols'),\n",
              " Text(0.6035313001605136, 0.6944444444444444, 'gini = 0.0\\nsamples = 3\\nvalue = [0, 5]\\nclass = output_cols'),\n",
              " Text(0.6292134831460674, 0.6944444444444444, 'gini = 0.0\\nsamples = 2\\nvalue = [4, 0]\\nclass = input_cols'),\n",
              " Text(0.6420545746388443, 0.75, 'gini = 0.0\\nsamples = 10\\nvalue = [21, 0]\\nclass = input_cols'),\n",
              " Text(0.8687800963081862, 0.8611111111111112, 'Age <= 7.0\\ngini = 0.23\\nsamples = 152\\nvalue = [209, 32]\\nclass = input_cols'),\n",
              " Text(0.8430979133226324, 0.8055555555555556, 'SibSp <= 2.5\\ngini = 0.494\\nsamples = 7\\nvalue = [4, 5]\\nclass = output_cols'),\n",
              " Text(0.8302568218298555, 0.75, 'gini = 0.0\\nsamples = 4\\nvalue = [0, 5]\\nclass = output_cols'),\n",
              " Text(0.8559390048154093, 0.75, 'gini = 0.0\\nsamples = 3\\nvalue = [4, 0]\\nclass = input_cols'),\n",
              " Text(0.89446227929374, 0.8055555555555556, 'SibSp <= 1.5\\ngini = 0.206\\nsamples = 145\\nvalue = [205, 27]\\nclass = input_cols'),\n",
              " Text(0.8816211878009631, 0.75, 'Fare <= 40.323\\ngini = 0.218\\nsamples = 135\\nvalue = [190, 27]\\nclass = input_cols'),\n",
              " Text(0.7889245585874799, 0.6944444444444444, 'Fare <= 7.91\\ngini = 0.201\\nsamples = 131\\nvalue = [188, 24]\\nclass = input_cols'),\n",
              " Text(0.6677367576243981, 0.6388888888888888, 'Parch <= 0.5\\ngini = 0.122\\nsamples = 68\\nvalue = [100, 7]\\nclass = input_cols'),\n",
              " Text(0.6548956661316212, 0.5833333333333334, 'Fare <= 7.812\\ngini = 0.123\\nsamples = 67\\nvalue = [99, 7]\\nclass = input_cols'),\n",
              " Text(0.6420545746388443, 0.5277777777777778, 'Age <= 30.85\\ngini = 0.173\\nsamples = 43\\nvalue = [66, 7]\\nclass = input_cols'),\n",
              " Text(0.6292134831460674, 0.4722222222222222, 'SibSp <= 0.5\\ngini = 0.254\\nsamples = 30\\nvalue = [40, 7]\\nclass = input_cols'),\n",
              " Text(0.6163723916532905, 0.4166666666666667, 'Age <= 23.0\\ngini = 0.258\\nsamples = 29\\nvalue = [39, 7]\\nclass = input_cols'),\n",
              " Text(0.6035313001605136, 0.3611111111111111, 'gini = 0.0\\nsamples = 7\\nvalue = [11, 0]\\nclass = input_cols'),\n",
              " Text(0.6292134831460674, 0.3611111111111111, 'Age <= 24.5\\ngini = 0.32\\nsamples = 22\\nvalue = [28, 7]\\nclass = input_cols'),\n",
              " Text(0.6035313001605136, 0.3055555555555556, 'Fare <= 7.469\\ngini = 0.5\\nsamples = 2\\nvalue = [1, 1]\\nclass = input_cols'),\n",
              " Text(0.5906902086677368, 0.25, 'gini = 0.0\\nsamples = 1\\nvalue = [0, 1]\\nclass = output_cols'),\n",
              " Text(0.6163723916532905, 0.25, 'gini = 0.0\\nsamples = 1\\nvalue = [1, 0]\\nclass = input_cols'),\n",
              " Text(0.6548956661316212, 0.3055555555555556, 'Fare <= 7.742\\ngini = 0.298\\nsamples = 20\\nvalue = [27, 6]\\nclass = input_cols'),\n",
              " Text(0.6420545746388443, 0.25, 'gini = 0.0\\nsamples = 12\\nvalue = [20, 0]\\nclass = input_cols'),\n",
              " Text(0.6677367576243981, 0.25, 'Fare <= 7.763\\ngini = 0.497\\nsamples = 8\\nvalue = [7, 6]\\nclass = input_cols'),\n",
              " Text(0.6420545746388443, 0.19444444444444445, 'Age <= 29.35\\ngini = 0.48\\nsamples = 4\\nvalue = [3, 2]\\nclass = input_cols'),\n",
              " Text(0.6292134831460674, 0.1388888888888889, 'gini = 0.0\\nsamples = 1\\nvalue = [0, 1]\\nclass = output_cols'),\n",
              " Text(0.6548956661316212, 0.1388888888888889, 'gini = 0.375\\nsamples = 3\\nvalue = [3, 1]\\nclass = input_cols'),\n",
              " Text(0.6934189406099518, 0.19444444444444445, 'Age <= 28.85\\ngini = 0.5\\nsamples = 4\\nvalue = [4, 4]\\nclass = input_cols'),\n",
              " Text(0.680577849117175, 0.1388888888888889, 'Age <= 27.5\\ngini = 0.444\\nsamples = 3\\nvalue = [4, 2]\\nclass = input_cols'),\n",
              " Text(0.6677367576243981, 0.08333333333333333, 'Age <= 26.5\\ngini = 0.444\\nsamples = 2\\nvalue = [1, 2]\\nclass = output_cols'),\n",
              " Text(0.6548956661316212, 0.027777777777777776, 'gini = 0.0\\nsamples = 1\\nvalue = [1, 0]\\nclass = input_cols'),\n",
              " Text(0.680577849117175, 0.027777777777777776, 'gini = 0.0\\nsamples = 1\\nvalue = [0, 2]\\nclass = output_cols'),\n",
              " Text(0.6934189406099518, 0.08333333333333333, 'gini = 0.0\\nsamples = 1\\nvalue = [3, 0]\\nclass = input_cols'),\n",
              " Text(0.7062600321027287, 0.1388888888888889, 'gini = 0.0\\nsamples = 1\\nvalue = [0, 2]\\nclass = output_cols'),\n",
              " Text(0.6420545746388443, 0.4166666666666667, 'gini = 0.0\\nsamples = 1\\nvalue = [1, 0]\\nclass = input_cols'),\n",
              " Text(0.6548956661316212, 0.4722222222222222, 'gini = 0.0\\nsamples = 13\\nvalue = [26, 0]\\nclass = input_cols'),\n",
              " Text(0.6677367576243981, 0.5277777777777778, 'gini = 0.0\\nsamples = 24\\nvalue = [33, 0]\\nclass = input_cols'),\n",
              " Text(0.680577849117175, 0.5833333333333334, 'gini = 0.0\\nsamples = 1\\nvalue = [1, 0]\\nclass = input_cols'),\n",
              " Text(0.9101123595505618, 0.6388888888888888, 'Parch <= 0.5\\ngini = 0.271\\nsamples = 63\\nvalue = [88, 17]\\nclass = input_cols'),\n",
              " Text(0.8972712680577849, 0.5833333333333334, 'SibSp <= 0.5\\ngini = 0.282\\nsamples = 60\\nvalue = [83, 17]\\nclass = input_cols'),\n",
              " Text(0.8378812199036918, 0.5277777777777778, 'Age <= 30.5\\ngini = 0.278\\nsamples = 48\\nvalue = [70, 14]\\nclass = input_cols'),\n",
              " Text(0.7576243980738363, 0.4722222222222222, 'Fare <= 8.388\\ngini = 0.171\\nsamples = 32\\nvalue = [48, 5]\\nclass = input_cols'),\n",
              " Text(0.7319422150882825, 0.4166666666666667, 'Fare <= 8.081\\ngini = 0.245\\nsamples = 17\\nvalue = [24, 4]\\nclass = input_cols'),\n",
              " Text(0.7191011235955056, 0.3611111111111111, 'Age <= 19.5\\ngini = 0.142\\nsamples = 16\\nvalue = [24, 2]\\nclass = input_cols'),\n",
              " Text(0.7062600321027287, 0.3055555555555556, 'Age <= 17.5\\ngini = 0.444\\nsamples = 3\\nvalue = [1, 2]\\nclass = output_cols'),\n",
              " Text(0.6934189406099518, 0.25, 'gini = 0.5\\nsamples = 2\\nvalue = [1, 1]\\nclass = input_cols'),\n",
              " Text(0.7191011235955056, 0.25, 'gini = 0.0\\nsamples = 1\\nvalue = [0, 1]\\nclass = output_cols'),\n",
              " Text(0.7319422150882825, 0.3055555555555556, 'gini = 0.0\\nsamples = 13\\nvalue = [23, 0]\\nclass = input_cols'),\n",
              " Text(0.7447833065810594, 0.3611111111111111, 'gini = 0.0\\nsamples = 1\\nvalue = [0, 2]\\nclass = output_cols'),\n",
              " Text(0.78330658105939, 0.4166666666666667, 'Age <= 25.0\\ngini = 0.077\\nsamples = 15\\nvalue = [24, 1]\\nclass = input_cols'),\n",
              " Text(0.7704654895666132, 0.3611111111111111, 'gini = 0.0\\nsamples = 10\\nvalue = [16, 0]\\nclass = input_cols'),\n",
              " Text(0.7961476725521669, 0.3611111111111111, 'Fare <= 16.944\\ngini = 0.198\\nsamples = 5\\nvalue = [8, 1]\\nclass = input_cols'),\n",
              " Text(0.78330658105939, 0.3055555555555556, 'gini = 0.0\\nsamples = 3\\nvalue = [5, 0]\\nclass = input_cols'),\n",
              " Text(0.8089887640449438, 0.3055555555555556, 'Age <= 27.85\\ngini = 0.375\\nsamples = 2\\nvalue = [3, 1]\\nclass = input_cols'),\n",
              " Text(0.7961476725521669, 0.25, 'gini = 0.0\\nsamples = 1\\nvalue = [0, 1]\\nclass = output_cols'),\n",
              " Text(0.8218298555377207, 0.25, 'gini = 0.0\\nsamples = 1\\nvalue = [3, 0]\\nclass = input_cols'),\n",
              " Text(0.9181380417335474, 0.4722222222222222, 'Fare <= 7.988\\ngini = 0.412\\nsamples = 16\\nvalue = [22, 9]\\nclass = input_cols'),\n",
              " Text(0.8731942215088283, 0.4166666666666667, 'Age <= 35.5\\ngini = 0.444\\nsamples = 5\\nvalue = [3, 6]\\nclass = output_cols'),\n",
              " Text(0.8475120385232745, 0.3611111111111111, 'Age <= 31.5\\ngini = 0.278\\nsamples = 3\\nvalue = [1, 5]\\nclass = output_cols'),\n",
              " Text(0.8346709470304976, 0.3055555555555556, 'gini = 0.0\\nsamples = 1\\nvalue = [0, 1]\\nclass = output_cols'),\n",
              " Text(0.8603531300160514, 0.3055555555555556, 'gini = 0.32\\nsamples = 2\\nvalue = [1, 4]\\nclass = output_cols'),\n",
              " Text(0.898876404494382, 0.3611111111111111, 'Age <= 41.5\\ngini = 0.444\\nsamples = 2\\nvalue = [2, 1]\\nclass = input_cols'),\n",
              " Text(0.8860353130016051, 0.3055555555555556, 'gini = 0.0\\nsamples = 1\\nvalue = [2, 0]\\nclass = input_cols'),\n",
              " Text(0.9117174959871589, 0.3055555555555556, 'gini = 0.0\\nsamples = 1\\nvalue = [0, 1]\\nclass = output_cols'),\n",
              " Text(0.9630818619582665, 0.4166666666666667, 'Fare <= 8.206\\ngini = 0.236\\nsamples = 11\\nvalue = [19, 3]\\nclass = input_cols'),\n",
              " Text(0.9502407704654896, 0.3611111111111111, 'Age <= 33.0\\ngini = 0.32\\nsamples = 5\\nvalue = [12, 3]\\nclass = input_cols'),\n",
              " Text(0.9373996789727127, 0.3055555555555556, 'gini = 0.0\\nsamples = 1\\nvalue = [0, 3]\\nclass = output_cols'),\n",
              " Text(0.9630818619582665, 0.3055555555555556, 'gini = 0.0\\nsamples = 4\\nvalue = [12, 0]\\nclass = input_cols'),\n",
              " Text(0.9759229534510433, 0.3611111111111111, 'gini = 0.0\\nsamples = 6\\nvalue = [7, 0]\\nclass = input_cols'),\n",
              " Text(0.956661316211878, 0.5277777777777778, 'Age <= 22.0\\ngini = 0.305\\nsamples = 12\\nvalue = [13, 3]\\nclass = input_cols'),\n",
              " Text(0.9438202247191011, 0.4722222222222222, 'gini = 0.0\\nsamples = 2\\nvalue = [0, 3]\\nclass = output_cols'),\n",
              " Text(0.9695024077046549, 0.4722222222222222, 'gini = 0.0\\nsamples = 10\\nvalue = [13, 0]\\nclass = input_cols'),\n",
              " Text(0.9229534510433387, 0.5833333333333334, 'gini = 0.0\\nsamples = 3\\nvalue = [5, 0]\\nclass = input_cols'),\n",
              " Text(0.9743178170144462, 0.6944444444444444, 'Age <= 28.85\\ngini = 0.48\\nsamples = 4\\nvalue = [2, 3]\\nclass = output_cols'),\n",
              " Text(0.9614767255216693, 0.6388888888888888, 'Age <= 27.0\\ngini = 0.444\\nsamples = 2\\nvalue = [2, 1]\\nclass = input_cols'),\n",
              " Text(0.9486356340288925, 0.5833333333333334, 'gini = 0.0\\nsamples = 1\\nvalue = [0, 1]\\nclass = output_cols'),\n",
              " Text(0.9743178170144462, 0.5833333333333334, 'gini = 0.0\\nsamples = 1\\nvalue = [2, 0]\\nclass = input_cols'),\n",
              " Text(0.9871589085072231, 0.6388888888888888, 'gini = 0.0\\nsamples = 2\\nvalue = [0, 2]\\nclass = output_cols'),\n",
              " Text(0.9073033707865169, 0.75, 'gini = 0.0\\nsamples = 10\\nvalue = [15, 0]\\nclass = input_cols')]"
            ]
          },
          "metadata": {},
          "execution_count": 88
        },
        {
          "output_type": "display_data",
          "data": {
            "text/plain": [
              "<Figure size 640x480 with 1 Axes>"
            ],
            "image/png": "[encoded data removed]"
          },
          "metadata": {}
        }
      ]
    }
  ]
}