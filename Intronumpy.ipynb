{
  "nbformat": 4,
  "nbformat_minor": 0,
  "metadata": {
    "colab": {
      "provenance": [],
      "authorship_tag": "ABX9TyOAg5wd2fW6XdR11nTfl9rz",
      "include_colab_link": true
    },
    "kernelspec": {
      "name": "python3",
      "display_name": "Python 3"
    },
    "language_info": {
      "name": "python"
    }
  },
  "cells": [
    {
      "cell_type": "markdown",
      "metadata": {
        "id": "view-in-github",
        "colab_type": "text"
      },
      "source": [
        "<a href=\"https://colab.research.google.com/github/aman65823/amanproject-demo/blob/main/Intronumpy.ipynb\" target=\"_parent\"><img src=\"https://colab.research.google.com/assets/colab-badge.svg\" alt=\"Open In Colab\"/></a>"
      ]
    },
    {
      "cell_type": "code",
      "execution_count": 2,
      "metadata": {
        "colab": {
          "base_uri": "https://localhost:8080/"
        },
        "id": "A_aBX1f23bCW",
        "outputId": "c0c86a60-c82e-49ee-a4da-b85e96333160"
      },
      "outputs": [
        {
          "output_type": "stream",
          "name": "stdout",
          "text": [
            "[  6  38  79 765]\n"
          ]
        }
      ],
      "source": [
        "import numpy as np\n",
        "\n",
        "a = np.array([2, 4, 44, 244])\n",
        "b = np.array([4, 34, 35, 521])\n",
        "add_ans = a + b\n",
        "print(add_ans)\n",
        "#arithmetic operation"
      ]
    },
    {
      "cell_type": "code",
      "source": [
        "print(np.add(a, b))\n",
        "#function of numpy using numpy"
      ],
      "metadata": {
        "colab": {
          "base_uri": "https://localhost:8080/"
        },
        "id": "WcXmNqPl3esn",
        "outputId": "9dfc6ce3-3424-4a79-d1ce-816a7eda0fa7"
      },
      "execution_count": 3,
      "outputs": [
        {
          "output_type": "stream",
          "name": "stdout",
          "text": [
            "[  6  38  79 765]\n"
          ]
        }
      ]
    },
    {
      "cell_type": "code",
      "source": [
        "#mean medain and standard deviation"
      ],
      "metadata": {
        "id": "FLu-jr8k5LTF"
      },
      "execution_count": null,
      "outputs": []
    },
    {
      "cell_type": "code",
      "source": [
        "array = np.arange(10)\n",
        "print(array)\n",
        "r1 = np.mean(array)\n",
        "print(\"/mean: \", r1)"
      ],
      "metadata": {
        "colab": {
          "base_uri": "https://localhost:8080/"
        },
        "id": "Q8D6XifC43SU",
        "outputId": "46be3a09-b78f-4eba-990f-e94100b0e909"
      },
      "execution_count": 5,
      "outputs": [
        {
          "output_type": "stream",
          "name": "stdout",
          "text": [
            "[0 1 2 3 4 5 6 7 8 9]\n",
            "/mean:  4.5\n"
          ]
        }
      ]
    },
    {
      "cell_type": "code",
      "source": [
        "r2 = np.std(array)\n",
        "print(\"/std: \", r2)\n",
        "\n",
        "r3 = np.var(array)\n",
        "print(\"/nvar: \", r3)"
      ],
      "metadata": {
        "colab": {
          "base_uri": "https://localhost:8080/"
        },
        "id": "2mzNRmkj5IC6",
        "outputId": "ea6be023-a87e-46fe-8aa7-feed4fee14ff"
      },
      "execution_count": 7,
      "outputs": [
        {
          "output_type": "stream",
          "name": "stdout",
          "text": [
            "/std:  2.8722813232690143\n",
            "/nvar:  8.25\n"
          ]
        }
      ]
    },
    {
      "cell_type": "code",
      "source": [
        "#convert one shape to another shape\n"
      ],
      "metadata": {
        "id": "Wyx7CcIO6D8U"
      },
      "execution_count": 8,
      "outputs": []
    },
    {
      "cell_type": "code",
      "source": [
        "import numpy as np\n",
        "a = np.array([1, 2, 3, 4, 5, 6, 7, 8, 9, 10, 11, 12, 13, 14, 15, 16])\n",
        "print(\"Array : \" + str(array))\n",
        "n= array.size\n",
        "N = 4\n",
        "M = n//4\n",
        "reshaped1 = array.reshape((N, M))\n",
        "\n",
        "print(\" firet reshaped1 array : \" )\n",
        "print(reshaped1)\n",
        "reshaped2 = np.reshape(array,(2,8))\n",
        "print(\"Second Reshaped Array : \")\n",
        "print(reshaped2)"
      ],
      "metadata": {
        "colab": {
          "base_uri": "https://localhost:8080/",
          "height": 228
        },
        "id": "GFJJmwD76rQg",
        "outputId": "08c5b9c1-9635-4d5d-b8a1-5b71d4bd7796"
      },
      "execution_count": 13,
      "outputs": [
        {
          "output_type": "stream",
          "name": "stdout",
          "text": [
            "Array : [0 1 2 3 4 5 6 7 8 9]\n"
          ]
        },
        {
          "output_type": "error",
          "ename": "ValueError",
          "evalue": "cannot reshape array of size 10 into shape (4,2)",
          "traceback": [
            "\u001b[0;31m---------------------------------------------------------------------------\u001b[0m",
            "\u001b[0;31mValueError\u001b[0m                                Traceback (most recent call last)",
            "\u001b[0;32m<ipython-input-13-f195a5afad74>\u001b[0m in \u001b[0;36m<cell line: 7>\u001b[0;34m()\u001b[0m\n\u001b[1;32m      5\u001b[0m \u001b[0mN\u001b[0m \u001b[0;34m=\u001b[0m \u001b[0;36m4\u001b[0m\u001b[0;34m\u001b[0m\u001b[0;34m\u001b[0m\u001b[0m\n\u001b[1;32m      6\u001b[0m \u001b[0mM\u001b[0m \u001b[0;34m=\u001b[0m \u001b[0mn\u001b[0m\u001b[0;34m//\u001b[0m\u001b[0;36m4\u001b[0m\u001b[0;34m\u001b[0m\u001b[0;34m\u001b[0m\u001b[0m\n\u001b[0;32m----> 7\u001b[0;31m \u001b[0mreshaped1\u001b[0m \u001b[0;34m=\u001b[0m \u001b[0marray\u001b[0m\u001b[0;34m.\u001b[0m\u001b[0mreshape\u001b[0m\u001b[0;34m(\u001b[0m\u001b[0;34m(\u001b[0m\u001b[0mN\u001b[0m\u001b[0;34m,\u001b[0m \u001b[0mM\u001b[0m\u001b[0;34m)\u001b[0m\u001b[0;34m)\u001b[0m\u001b[0;34m\u001b[0m\u001b[0;34m\u001b[0m\u001b[0m\n\u001b[0m\u001b[1;32m      8\u001b[0m \u001b[0;34m\u001b[0m\u001b[0m\n\u001b[1;32m      9\u001b[0m \u001b[0mprint\u001b[0m\u001b[0;34m(\u001b[0m\u001b[0;34m\" firet reshaped1 array : \"\u001b[0m \u001b[0;34m)\u001b[0m\u001b[0;34m\u001b[0m\u001b[0;34m\u001b[0m\u001b[0m\n",
            "\u001b[0;31mValueError\u001b[0m: cannot reshape array of size 10 into shape (4,2)"
          ]
        }
      ]
    },
    {
      "cell_type": "code",
      "source": [
        "# importing numpy\n",
        "import numpy as np\n",
        "\n",
        "# creating a numpy array\n",
        "array = np.array([1, 2, 3, 4, 5, 6, 7, 8, 9, 10, 11, 12, 13, 14, 15, 16])\n",
        "\n",
        "# printing array\n",
        "print(\"Array : \" + str(array))\n",
        "\n",
        "# length of array\n",
        "n = array.size\n",
        "\n",
        "# N-D array N dimension\n",
        "N = 4\n",
        "\n",
        "# calculating M\n",
        "M = n//N\n",
        "\n",
        "# reshaping numpy array\n",
        "# converting it to 2-D from 1-D array\n",
        "reshaped1 = array.reshape((N, M))\n",
        "\n",
        "# printing reshaped array\n",
        "print(\"First Reshaped Array : \")\n",
        "print(reshaped1)\n",
        "\n",
        "# creating another reshaped array\n",
        "reshaped2 = np.reshape(array, (2, 8))\n",
        "\n",
        "# printing reshaped array\n",
        "print(\"Second Reshaped Array : \")\n",
        "print(reshaped2)\n"
      ],
      "metadata": {
        "colab": {
          "base_uri": "https://localhost:8080/"
        },
        "id": "2NYXo6pF7aAO",
        "outputId": "008193f1-66b3-4b76-f8f3-b76030db5ba2"
      },
      "execution_count": 14,
      "outputs": [
        {
          "output_type": "stream",
          "name": "stdout",
          "text": [
            "Array : [ 1  2  3  4  5  6  7  8  9 10 11 12 13 14 15 16]\n",
            "First Reshaped Array : \n",
            "[[ 1  2  3  4]\n",
            " [ 5  6  7  8]\n",
            " [ 9 10 11 12]\n",
            " [13 14 15 16]]\n",
            "Second Reshaped Array : \n",
            "[[ 1  2  3  4  5  6  7  8]\n",
            " [ 9 10 11 12 13 14 15 16]]\n"
          ]
        }
      ]
    },
    {
      "cell_type": "code",
      "source": [],
      "metadata": {
        "id": "-wRhpUKO8wLB"
      },
      "execution_count": null,
      "outputs": []
    }
  ]
}