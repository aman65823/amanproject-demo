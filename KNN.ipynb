{
  "nbformat": 4,
  "nbformat_minor": 0,
  "metadata": {
    "colab": {
      "provenance": [],
      "authorship_tag": "ABX9TyPmhlnOfCxXzYFz/QS1TxD4",
      "include_colab_link": true
    },
    "kernelspec": {
      "name": "python3",
      "display_name": "Python 3"
    },
    "language_info": {
      "name": "python"
    }
  },
  "cells": [
    {
      "cell_type": "markdown",
      "metadata": {
        "id": "view-in-github",
        "colab_type": "text"
      },
      "source": [
        "<a href=\"https://colab.research.google.com/github/aman65823/amanproject-demo/blob/main/KNN.ipynb\" target=\"_parent\"><img src=\"https://colab.research.google.com/assets/colab-badge.svg\" alt=\"Open In Colab\"/></a>"
      ]
    },
    {
      "cell_type": "code",
      "execution_count": 17,
      "metadata": {
        "id": "ijsR2KdWgNK9"
      },
      "outputs": [],
      "source": [
        "import csv\n",
        "import random\n",
        "import math\n"
      ]
    },
    {
      "cell_type": "code",
      "source": [
        "from sklearn import datasets\n",
        "iris = datasets.load_iris()"
      ],
      "metadata": {
        "id": "6qmo3Lwpi5TD"
      },
      "execution_count": 18,
      "outputs": []
    },
    {
      "cell_type": "code",
      "source": [
        "iris.target_names"
      ],
      "metadata": {
        "colab": {
          "base_uri": "https://localhost:8080/"
        },
        "id": "DVeNrEkAjNhB",
        "outputId": "de79568c-b742-4454-de9c-1b9989904240"
      },
      "execution_count": 19,
      "outputs": [
        {
          "output_type": "execute_result",
          "data": {
            "text/plain": [
              "array(['setosa', 'versicolor', 'virginica'], dtype='<U10')"
            ]
          },
          "metadata": {},
          "execution_count": 19
        }
      ]
    },
    {
      "cell_type": "code",
      "source": [
        "iris.feature_names"
      ],
      "metadata": {
        "colab": {
          "base_uri": "https://localhost:8080/"
        },
        "id": "Zv_v8XtjjacJ",
        "outputId": "90822475-9678-47db-fb41-1fbf3b2aeb83"
      },
      "execution_count": 21,
      "outputs": [
        {
          "output_type": "execute_result",
          "data": {
            "text/plain": [
              "['sepal length (cm)',\n",
              " 'sepal width (cm)',\n",
              " 'petal length (cm)',\n",
              " 'petal width (cm)']"
            ]
          },
          "metadata": {},
          "execution_count": 21
        }
      ]
    },
    {
      "cell_type": "code",
      "source": [
        "\n",
        "data={\n",
        "    'feature1': iris.data[:,0],\n",
        "    'feature2' : iris.data[:,1],\n",
        "    'feature3': iris.data[:,2],\n",
        "    'feature4': iris.data[:,3],\n",
        "    'target': iris.target\n",
        "}\n",
        "\n"
      ],
      "metadata": {
        "id": "ZU-rcn0rl436"
      },
      "execution_count": 11,
      "outputs": []
    },
    {
      "cell_type": "code",
      "source": [
        "filename='datasets.csv'\n",
        "with open(filename, 'w', newline='') as csvfile:\n",
        "  writer = csv.writer(csvfile)\n",
        "  writer.writerow(data.keys())\n",
        "  t = zip(data['feature1'],data['feature2'], data['feature3'], data['feature4'],data['target'])\n",
        "  for item in t:\n",
        "    writer.writerow(item)"
      ],
      "metadata": {
        "id": "JKtfarrkns_4"
      },
      "execution_count": 20,
      "outputs": []
    },
    {
      "cell_type": "code",
      "source": [
        "def load_dataset(filename, split, training_set=[], test_set=[]):\n",
        "  with open(filename, 'r') as csvfile:\n",
        "    lines = csv.reader(csvfile)\n",
        "    dataset = list(lines)\n",
        "    for x in range (1, len(dataset)-1):\n",
        "        for y in range(4):\n",
        "            dataset[x][y] = float(dataset[x][y])\n",
        "            if random.random() < split:\n",
        "             training_set.append(dataset[x])\n",
        "            else:\n",
        "             test_set.append(dataset[x])\n",
        "\n",
        "    return(datatset,training_set,test_set)\n",
        "\n",
        "\n"
      ],
      "metadata": {
        "id": "qCT6ufHApIVR"
      },
      "execution_count": 51,
      "outputs": []
    },
    {
      "cell_type": "code",
      "source": [
        "def load_dataset(filename, split, training_set=[], test_set=[]):\n",
        "  with open(filename, 'r') as csvfile:\n",
        "    lines = csv.reader(csvfile)\n",
        "    dataset = list(lines)\n",
        "    for x in range (1, len(dataset)-1):\n",
        "      for y in range(4):\n",
        "        dataset[x][y] = float(dataset[x][y])\n",
        "        if random.random() < split:\n",
        "          training_set.append(dataset[x])\n",
        "        else:\n",
        "            test_set.append(dataset[x])\n",
        "    return(dataset, training_set, test_set)"
      ],
      "metadata": {
        "id": "4jtcOvoQxsHd"
      },
      "execution_count": 60,
      "outputs": []
    },
    {
      "cell_type": "code",
      "source": [
        "load_dataset(filename, 0.6, training_set= [], test_set=[])"
      ],
      "metadata": {
        "id": "NUm2fNNys0s5"
      },
      "execution_count": null,
      "outputs": []
    },
    {
      "cell_type": "code",
      "source": [
        "def euclidean_distance(instance1, instance2, length):\n",
        "  distance = 0\n",
        "  for x in range(length):\n",
        "    distance += pow((instance1[x] - instance2[x]), 2)\n",
        "    return math.sqrt(distance)"
      ],
      "metadata": {
        "id": "BVyd0cdVvO_t"
      },
      "execution_count": 62,
      "outputs": []
    },
    {
      "cell_type": "code",
      "source": [
        "def get_neighbours(training_set, test_instance, k):\n",
        "  distance = []\n",
        "  length = len(test_instance)-1\n",
        "  for x in range(len(training_set)):\n",
        "    dist = euclidean_distance"
      ],
      "metadata": {
        "id": "eMLZfdGt2DEM"
      },
      "execution_count": null,
      "outputs": []
    }
  ]
}